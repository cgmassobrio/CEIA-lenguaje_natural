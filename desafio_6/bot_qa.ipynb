{
  "cells": [
    {
      "cell_type": "markdown",
      "metadata": {
        "id": "pfa39F4lsLf3"
      },
      "source": [
        "<img src=\"https://github.com/hernancontigiani/ceia_memorias_especializacion/raw/master/Figures/logoFIUBA.jpg\" width=\"500\" align=\"center\">\n",
        "\n",
        "\n",
        "# Procesamiento de lenguaje natural\n",
        "## LSTM Bot QA\n",
        "El objectivo del desafío es utilizar datos disponibles de convai de conversaciones en inglés. Se construirá un BOT para responder a preguntas del usuario (QA).\n",
        "En las conclusiones se presentan los comentarios respecto a la performance obtenida. \n",
        "\n",
        "[LINK](http://convai.io/data/)"
      ]
    },
    {
      "cell_type": "markdown",
      "metadata": {
        "id": "A32ECUFWU8cS"
      },
      "source": [
        "Descarga de paquetes e importación de librerías iniciales necesarias"
      ]
    },
    {
      "cell_type": "code",
      "execution_count": 1,
      "metadata": {
        "id": "bDFC0I3j9oFD"
      },
      "outputs": [],
      "source": [
        "!pip install --upgrade --no-cache-dir gdown --quiet"
      ]
    },
    {
      "cell_type": "code",
      "execution_count": 2,
      "metadata": {
        "id": "cq3YXak9sGHd"
      },
      "outputs": [],
      "source": [
        "import re\n",
        "\n",
        "import numpy as np\n",
        "import pandas as pd\n",
        "\n",
        "from tensorflow import keras\n",
        "from tensorflow.keras import layers\n",
        "\n",
        "import keras\n",
        "from keras.preprocessing.text import one_hot\n",
        "from keras_preprocessing.sequence import pad_sequences\n",
        "from keras.models import Sequential\n",
        "from keras.layers.core import Activation, Dropout, Dense\n",
        "from keras.layers import Flatten, LSTM, SimpleRNN\n",
        "from keras.models import Model\n",
        "from keras.layers import Embedding\n",
        "from sklearn.model_selection import train_test_split\n",
        "from keras.preprocessing.text import Tokenizer\n",
        "from keras.layers import Input\n",
        "from keras.layers import Concatenate\n",
        "from keras.layers import Bidirectional"
      ]
    },
    {
      "cell_type": "markdown",
      "metadata": {
        "id": "X_oMXCpnVYP_"
      },
      "source": [
        "### Descarga y preparación del dataset"
      ]
    },
    {
      "cell_type": "code",
      "execution_count": 3,
      "metadata": {
        "colab": {
          "base_uri": "https://localhost:8080/"
        },
        "id": "RHNkUaPp6aYq",
        "outputId": "98587b18-b9b0-4270-9b84-d38af9b9ffdd"
      },
      "outputs": [
        {
          "name": "stdout",
          "output_type": "stream",
          "text": [
            "El dataset ya se encuentra descargado\n"
          ]
        }
      ],
      "source": [
        "import os\n",
        "import gdown\n",
        "if os.access('data_volunteers.json', os.F_OK) is False:\n",
        "    url = 'https://drive.google.com/uc?id=1QPYxMTBSGNmbyGhknznuO3YWLBOJnhUQ&export=download'\n",
        "    output = 'data_volunteers.json'\n",
        "    gdown.download(url, output, quiet=False)\n",
        "else:\n",
        "    print(\"El dataset ya se encuentra descargado\")"
      ]
    },
    {
      "cell_type": "code",
      "execution_count": 4,
      "metadata": {
        "id": "WZy1-wgG-Rp7"
      },
      "outputs": [],
      "source": [
        "# Apertura y carga del dataset para procesamiento\n",
        "import json\n",
        "\n",
        "text_file = \"data_volunteers.json\"\n",
        "with open(text_file) as f:\n",
        "    data = json.load(f)"
      ]
    },
    {
      "cell_type": "code",
      "execution_count": 5,
      "metadata": {
        "colab": {
          "base_uri": "https://localhost:8080/"
        },
        "id": "ue5qd54S-eew",
        "outputId": "f2b96a75-61f2-4c2c-81d2-d53d45b92777"
      },
      "outputs": [
        {
          "data": {
            "text/plain": [
              "dict_keys(['dialog', 'start_time', 'end_time', 'bot_profile', 'user_profile', 'eval_score', 'profile_match', 'participant1_id', 'participant2_id'])"
            ]
          },
          "execution_count": 5,
          "metadata": {},
          "output_type": "execute_result"
        }
      ],
      "source": [
        "# Observar los campos disponibles en cada linea del dataset\n",
        "data[0].keys()"
      ]
    },
    {
      "cell_type": "markdown",
      "metadata": {
        "id": "hgiogpDHWhGq"
      },
      "source": [
        "A partir del dataset, se generan las sentencias de entrada y de salida"
      ]
    },
    {
      "cell_type": "code",
      "execution_count": 6,
      "metadata": {
        "colab": {
          "base_uri": "https://localhost:8080/"
        },
        "id": "jHBRAXPl-3dz",
        "outputId": "e2af4dfe-4982-4486-cad7-20904e6ed172"
      },
      "outputs": [
        {
          "name": "stdout",
          "output_type": "stream",
          "text": [
            "Cantidad de rows utilizadas: 6033\n"
          ]
        }
      ],
      "source": [
        "chat_in = []\n",
        "chat_out = []\n",
        "\n",
        "input_sentences = []\n",
        "output_sentences = []\n",
        "output_sentences_inputs = []\n",
        "max_len = 30\n",
        "\n",
        "def clean_text(txt):\n",
        "    txt = txt.lower()    \n",
        "    txt.replace(\"\\'d\", \" had\")\n",
        "    txt.replace(\"\\'s\", \" is\")\n",
        "    txt.replace(\"\\'m\", \" am\")\n",
        "    txt.replace(\"don't\", \"do not\")\n",
        "    txt = re.sub(r'\\W+', ' ', txt)\n",
        "    \n",
        "    return txt\n",
        "\n",
        "for line in data:\n",
        "    for i in range(len(line['dialog'])-1):\n",
        "        chat_in = clean_text(line['dialog'][i]['text'])\n",
        "        chat_out = clean_text(line['dialog'][i+1]['text'])\n",
        "\n",
        "        if len(chat_in) >= max_len or len(chat_out) >= max_len:\n",
        "            continue\n",
        "\n",
        "        input_sentence, output = chat_in, chat_out\n",
        "        \n",
        "        # output sentence (decoder_output) tiene <eos>\n",
        "        output_sentence = output + ' <eos>'\n",
        "        # output sentence input (decoder_input) tiene <sos>\n",
        "        output_sentence_input = '<sos> ' + output\n",
        "\n",
        "        input_sentences.append(input_sentence)\n",
        "        output_sentences.append(output_sentence)\n",
        "        output_sentences_inputs.append(output_sentence_input)\n",
        "\n",
        "print(\"Cantidad de rows utilizadas:\", len(input_sentences))"
      ]
    },
    {
      "cell_type": "code",
      "execution_count": 7,
      "metadata": {
        "colab": {
          "base_uri": "https://localhost:8080/"
        },
        "id": "07L1qj8pC_l6",
        "outputId": "7a855cd8-7efc-4364-e0a6-8e237d81d3c6"
      },
      "outputs": [
        {
          "data": {
            "text/plain": [
              "('hi how are you ', 'not bad and you  <eos>', '<sos> not bad and you ')"
            ]
          },
          "execution_count": 7,
          "metadata": {},
          "output_type": "execute_result"
        }
      ],
      "source": [
        "input_sentences[1], output_sentences[1], output_sentences_inputs[1]"
      ]
    },
    {
      "cell_type": "markdown",
      "metadata": {
        "id": "8P-ynUNP5xp6"
      },
      "source": [
        "### 2 - Preprocesamiento\n",
        "Realizar el preprocesamiento necesario para obtener:\n",
        "- word2idx_inputs, max_input_len\n",
        "- word2idx_outputs, max_out_len, num_words_output\n",
        "- encoder_input_sequences, decoder_output_sequences, decoder_targets"
      ]
    },
    {
      "cell_type": "code",
      "execution_count": 8,
      "metadata": {
        "id": "RxU9n61m66lO"
      },
      "outputs": [],
      "source": [
        "# Definir el tamaño máximo del vocabulario\n",
        "MAX_VOCAB_SIZE = 8000"
      ]
    },
    {
      "cell_type": "markdown",
      "metadata": {
        "id": "6KgxGakmW90y"
      },
      "source": [
        "Tokenización del vector de palabras a la entrada con el _tokenizer_ de Keras"
      ]
    },
    {
      "cell_type": "code",
      "execution_count": 9,
      "metadata": {
        "colab": {
          "base_uri": "https://localhost:8080/"
        },
        "id": "lN4FoUqs7LJB",
        "outputId": "339101e9-1338-4d81-85b0-5c196fedd80d"
      },
      "outputs": [
        {
          "name": "stdout",
          "output_type": "stream",
          "text": [
            "Palabras en el vocabulario: 1799\n",
            "Sentencia de entrada más larga: 9\n"
          ]
        }
      ],
      "source": [
        "# Tokenización entrada\n",
        "# Definir una máxima cantidad de palabras a utilizar:\n",
        "# - num_words --> the maximum number of words to keep, based on word frequency.\n",
        "# - Only the most common num_words-1 words will be kept.\n",
        "from keras.preprocessing.text import Tokenizer\n",
        "input_tokenizer = Tokenizer(num_words=MAX_VOCAB_SIZE)\n",
        "input_tokenizer.fit_on_texts(input_sentences)\n",
        "input_integer_seq = input_tokenizer.texts_to_sequences(input_sentences)\n",
        "\n",
        "word2idx_inputs = input_tokenizer.word_index\n",
        "print(\"Palabras en el vocabulario:\", len(word2idx_inputs))\n",
        "\n",
        "max_input_len = max(len(sen) for sen in input_integer_seq)\n",
        "print(\"Sentencia de entrada más larga:\", max_input_len)"
      ]
    },
    {
      "cell_type": "markdown",
      "metadata": {
        "id": "CHxa1liMXOIg"
      },
      "source": [
        "Tokenización del vector de palabras a la salida con el *tokenizer* de Keras"
      ]
    },
    {
      "cell_type": "code",
      "execution_count": 10,
      "metadata": {
        "colab": {
          "base_uri": "https://localhost:8080/"
        },
        "id": "rJww0WgXI6ga",
        "outputId": "afc2af4a-dd58-409e-889b-17d435898a32"
      },
      "outputs": [
        {
          "name": "stdout",
          "output_type": "stream",
          "text": [
            "Palabras en el vocabulario: 1806\n",
            "Sentencia de salida más larga: 10\n"
          ]
        }
      ],
      "source": [
        "# Tokenización a la salida\n",
        "# A los filtros de símbolos del Tokenizer agregamos el \"¿\",\n",
        "# sacamos los \"<>\" para que no afectar nuestros tokens\n",
        "output_tokenizer = Tokenizer(num_words=MAX_VOCAB_SIZE, filters='!\"#$%&()*+,-./:;=¿?@[\\\\]^_`{|}~\\t\\n')\n",
        "output_tokenizer.fit_on_texts([\"<sos>\", \"<eos>\"] + output_sentences)\n",
        "output_integer_seq = output_tokenizer.texts_to_sequences(output_sentences)\n",
        "output_input_integer_seq = output_tokenizer.texts_to_sequences(output_sentences_inputs)\n",
        "\n",
        "word2idx_outputs = output_tokenizer.word_index\n",
        "print(\"Palabras en el vocabulario:\", len(word2idx_outputs))\n",
        "\n",
        "num_words_output = min(len(word2idx_outputs) + 1, MAX_VOCAB_SIZE) # Se suma 1 por el primer <sos>\n",
        "max_out_len = max(len(sen) for sen in output_integer_seq)\n",
        "print(\"Sentencia de salida más larga:\", max_out_len)"
      ]
    },
    {
      "cell_type": "markdown",
      "metadata": {
        "id": "U9xV6jg_XXS7"
      },
      "source": [
        "Padding de oraciones"
      ]
    },
    {
      "cell_type": "code",
      "execution_count": 11,
      "metadata": {
        "colab": {
          "base_uri": "https://localhost:8080/"
        },
        "id": "BwyqiW5SJAUc",
        "outputId": "9f73218b-4491-4ff2-f9cb-ca49d61c854c"
      },
      "outputs": [
        {
          "name": "stdout",
          "output_type": "stream",
          "text": [
            "Cantidad de rows del dataset: 6033\n",
            "encoder_input_sequences shape: (6033, 9)\n",
            "decoder_input_sequences shape: (6033, 10)\n"
          ]
        }
      ],
      "source": [
        "# Padding\n",
        "print(\"Cantidad de rows del dataset:\", len(input_integer_seq))\n",
        "\n",
        "encoder_input_sequences = pad_sequences(input_integer_seq, maxlen=max_input_len)\n",
        "print(\"encoder_input_sequences shape:\", encoder_input_sequences.shape)\n",
        "\n",
        "decoder_input_sequences = pad_sequences(output_input_integer_seq, maxlen=max_out_len, padding='post')\n",
        "print(\"decoder_input_sequences shape:\", decoder_input_sequences.shape)"
      ]
    },
    {
      "cell_type": "markdown",
      "metadata": {
        "id": "yQfndQXcXpQ3"
      },
      "source": [
        "Codificación de la salida como One Hot Encoding"
      ]
    },
    {
      "cell_type": "code",
      "execution_count": 12,
      "metadata": {
        "colab": {
          "base_uri": "https://localhost:8080/"
        },
        "id": "OJmOOrSpKe4J",
        "outputId": "12123655-8859-4b9b-d809-7606c01e627b"
      },
      "outputs": [
        {
          "data": {
            "text/plain": [
              "(6033, 10, 1807)"
            ]
          },
          "execution_count": 12,
          "metadata": {},
          "output_type": "execute_result"
        }
      ],
      "source": [
        "from keras.utils.np_utils import to_categorical\n",
        "decoder_output_sequences = pad_sequences(output_integer_seq, maxlen=max_out_len, padding='post')\n",
        "decoder_targets = to_categorical(decoder_output_sequences, num_classes=num_words_output)\n",
        "decoder_targets.shape"
      ]
    },
    {
      "cell_type": "markdown",
      "metadata": {
        "id": "_CJIsLBbj6rg"
      },
      "source": [
        "### 3 - Preparar los embeddings\n",
        "Como se cuenta con recursos suficientes, para este desafío se emplean los embeddings de FastText. Se emplean para transformar los tokens de entrada en vectores.\n",
        "\n",
        "Descarga de los embeddings de FastText."
      ]
    },
    {
      "cell_type": "code",
      "execution_count": 13,
      "metadata": {
        "colab": {
          "base_uri": "https://localhost:8080/"
        },
        "id": "FIarOkFPKsuH",
        "outputId": "d0808edc-b4cc-4a12-cde0-148a892f7d2b"
      },
      "outputs": [
        {
          "name": "stdout",
          "output_type": "stream",
          "text": [
            "Los embeddings fasttext.pkl ya están descargados\n"
          ]
        }
      ],
      "source": [
        "import os\n",
        "import gdown\n",
        "if os.access('fasttext.pkl', os.F_OK) is False:\n",
        "    url = 'https://drive.google.com/uc?id=1KU5qmAYh3LATMvVgocFDfW-PK3prm1WU&export=download'\n",
        "    output = 'fasttext.pkl'\n",
        "    gdown.download(url, output, quiet=False)\n",
        "else:\n",
        "    print(\"Los embeddings fasttext.pkl ya están descargados\")"
      ]
    },
    {
      "cell_type": "markdown",
      "metadata": {
        "id": "cyla1SpnYuQy"
      },
      "source": [
        "Armado de la clase para la lectura de los embeddings"
      ]
    },
    {
      "cell_type": "code",
      "execution_count": 14,
      "metadata": {
        "id": "syaRJ8KOLLol"
      },
      "outputs": [],
      "source": [
        "import logging\n",
        "import os\n",
        "from pathlib import Path\n",
        "from io import StringIO\n",
        "import pickle\n",
        "\n",
        "class WordsEmbeddings(object):\n",
        "    logger = logging.getLogger(__name__)\n",
        "\n",
        "    def __init__(self):\n",
        "        # load the embeddings\n",
        "        words_embedding_pkl = Path(self.PKL_PATH)\n",
        "        if not words_embedding_pkl.is_file():\n",
        "            words_embedding_txt = Path(self.WORD_TO_VEC_MODEL_TXT_PATH)\n",
        "            assert words_embedding_txt.is_file(), 'Words embedding not available'\n",
        "            embeddings = self.convert_model_to_pickle()\n",
        "        else:\n",
        "            embeddings = self.load_model_from_pickle()\n",
        "        self.embeddings = embeddings\n",
        "        # build the vocabulary hashmap\n",
        "        index = np.arange(self.embeddings.shape[0])\n",
        "        # Dicctionarios para traducir de embedding a IDX de la palabra\n",
        "        self.word2idx = dict(zip(self.embeddings['word'], index))\n",
        "        self.idx2word = dict(zip(index, self.embeddings['word']))\n",
        "\n",
        "    def get_words_embeddings(self, words):\n",
        "        words_idxs = self.words2idxs(words)\n",
        "        return self.embeddings[words_idxs]['embedding']\n",
        "\n",
        "    def words2idxs(self, words):\n",
        "        return np.array([self.word2idx.get(word, -1) for word in words])\n",
        "\n",
        "    def idxs2words(self, idxs):\n",
        "        return np.array([self.idx2word.get(idx, '-1') for idx in idxs])\n",
        "\n",
        "    def load_model_from_pickle(self):\n",
        "        self.logger.debug(\n",
        "            'loading words embeddings from pickle {}'.format(\n",
        "                self.PKL_PATH\n",
        "            )\n",
        "        )\n",
        "        max_bytes = 2**28 - 1 # 256MB\n",
        "        bytes_in = bytearray(0)\n",
        "        input_size = os.path.getsize(self.PKL_PATH)\n",
        "        with open(self.PKL_PATH, 'rb') as f_in:\n",
        "            for _ in range(0, input_size, max_bytes):\n",
        "                bytes_in += f_in.read(max_bytes)\n",
        "        embeddings = pickle.loads(bytes_in)\n",
        "        self.logger.debug('words embeddings loaded')\n",
        "        return embeddings\n",
        "\n",
        "    def convert_model_to_pickle(self):\n",
        "        # create a numpy strctured array:\n",
        "        # word     embedding\n",
        "        # U50      np.float32[]\n",
        "        # word_1   a, b, c\n",
        "        # word_2   d, e, f\n",
        "        # ...\n",
        "        # word_n   g, h, i\n",
        "        self.logger.debug(\n",
        "            'converting and loading words embeddings from text file {}'.format(\n",
        "                self.WORD_TO_VEC_MODEL_TXT_PATH\n",
        "            )\n",
        "        )\n",
        "        structure = [('word', np.dtype('U' + str(self.WORD_MAX_SIZE))),\n",
        "                     ('embedding', np.float32, (self.N_FEATURES,))]\n",
        "        structure = np.dtype(structure)\n",
        "        # load numpy array from disk using a generator\n",
        "        with open(self.WORD_TO_VEC_MODEL_TXT_PATH, encoding=\"utf8\") as words_embeddings_txt:\n",
        "            embeddings_gen = (\n",
        "                (line.split()[0], line.split()[1:]) for line in words_embeddings_txt\n",
        "                if len(line.split()[1:]) == self.N_FEATURES\n",
        "            )\n",
        "            embeddings = np.fromiter(embeddings_gen, structure)\n",
        "        # add a null embedding\n",
        "        null_embedding = np.array(\n",
        "            [('null_embedding', np.zeros((self.N_FEATURES,), dtype=np.float32))],\n",
        "            dtype=structure\n",
        "        )\n",
        "        embeddings = np.concatenate([embeddings, null_embedding])\n",
        "        # dump numpy array to disk using pickle\n",
        "        max_bytes = 2**28 - 1 # # 256MB\n",
        "        bytes_out = pickle.dumps(embeddings, protocol=pickle.HIGHEST_PROTOCOL)\n",
        "        with open(self.PKL_PATH, 'wb') as f_out:\n",
        "            for idx in range(0, len(bytes_out), max_bytes):\n",
        "                f_out.write(bytes_out[idx:idx+max_bytes])\n",
        "        self.logger.debug('words embeddings loaded')\n",
        "        return embeddings\n",
        "\n",
        "\n",
        "class GloveEmbeddings(WordsEmbeddings):\n",
        "    WORD_TO_VEC_MODEL_TXT_PATH = 'glove.twitter.27B.50d.txt'\n",
        "    PKL_PATH = 'gloveembedding.pkl'\n",
        "    N_FEATURES = 50\n",
        "    WORD_MAX_SIZE = 60\n",
        "\n",
        "class FasttextEmbeddings(WordsEmbeddings):\n",
        "    WORD_TO_VEC_MODEL_TXT_PATH = 'cc.en.300.vec'\n",
        "    PKL_PATH = 'fasttext.pkl'\n",
        "    N_FEATURES = 300\n",
        "    WORD_MAX_SIZE = 60"
      ]
    },
    {
      "cell_type": "markdown",
      "metadata": {
        "id": "dsHtBWULY4WT"
      },
      "source": [
        "Creación de la matriz de embeddings"
      ]
    },
    {
      "cell_type": "code",
      "execution_count": 15,
      "metadata": {
        "id": "V0JNiSuCLRph"
      },
      "outputs": [],
      "source": [
        "model_embeddings = FasttextEmbeddings()"
      ]
    },
    {
      "cell_type": "code",
      "execution_count": 16,
      "metadata": {
        "colab": {
          "base_uri": "https://localhost:8080/"
        },
        "id": "9y9Q2eauLUjR",
        "outputId": "845d62c8-ec95-4ba3-d8e5-625d9ff53029"
      },
      "outputs": [
        {
          "name": "stdout",
          "output_type": "stream",
          "text": [
            "preparing embedding matrix...\n",
            "number of null word embeddings: 1\n"
          ]
        }
      ],
      "source": [
        "# Crear la Embedding matrix de las secuencias\n",
        "# en ingles\n",
        "\n",
        "print('preparing embedding matrix...')\n",
        "embed_dim = model_embeddings.N_FEATURES\n",
        "words_not_found = []\n",
        "\n",
        "# word_index provieen del tokenizer\n",
        "\n",
        "nb_words = min(MAX_VOCAB_SIZE, len(word2idx_inputs)) # vocab_size\n",
        "embedding_matrix = np.zeros((nb_words, embed_dim))\n",
        "for word, i in word2idx_inputs.items():\n",
        "    if i >= nb_words:\n",
        "        continue\n",
        "    embedding_vector = model_embeddings.get_words_embeddings(word)[0]\n",
        "    if (embedding_vector is not None) and len(embedding_vector) > 0:\n",
        "        \n",
        "        embedding_matrix[i] = embedding_vector\n",
        "    else:\n",
        "        # words not found in embedding index will be all-zeros.\n",
        "        words_not_found.append(word)\n",
        "\n",
        "print('number of null word embeddings:', np.sum(np.sum(embedding_matrix, axis=1) == 0))"
      ]
    },
    {
      "cell_type": "markdown",
      "metadata": {
        "id": "zMMcaOBCZMuA"
      },
      "source": [
        "Verificación dimensional de la matriz de embeddings"
      ]
    },
    {
      "cell_type": "code",
      "execution_count": 17,
      "metadata": {
        "colab": {
          "base_uri": "https://localhost:8080/"
        },
        "id": "oPWvfPfNNc0S",
        "outputId": "79d0b26f-f00f-41a0-ffe0-97109d7c7ea6"
      },
      "outputs": [
        {
          "data": {
            "text/plain": [
              "(1799, 300)"
            ]
          },
          "execution_count": 17,
          "metadata": {},
          "output_type": "execute_result"
        }
      ],
      "source": [
        "# Dimensión de los embeddings \n",
        "embedding_matrix.shape"
      ]
    },
    {
      "cell_type": "markdown",
      "metadata": {
        "id": "3vKbhjtIwPgM"
      },
      "source": [
        "### 4 - Entrenar el modelo\n",
        "Entrenar un modelo basado en el esquema encoder-decoder utilizando los datos generados en los puntos anteriores. Utilce como referencias los ejemplos vistos en clase.\n",
        "\n",
        "En este punto se agregaron dos capas LSTM en enocder y decoder, junto con la posibilidad de efectuar _dropout_, a los fines de optimizar recursos. Por capa hay presentes 128 neuronas."
      ]
    },
    {
      "cell_type": "code",
      "execution_count": 18,
      "metadata": {
        "colab": {
          "base_uri": "https://localhost:8080/"
        },
        "id": "YK144rdiNrx9",
        "outputId": "ff2b65c8-a921-478f-b201-03280833206d"
      },
      "outputs": [
        {
          "name": "stdout",
          "output_type": "stream",
          "text": [
            "Model: \"model\"\n",
            "__________________________________________________________________________________________________\n",
            " Layer (type)                   Output Shape         Param #     Connected to                     \n",
            "==================================================================================================\n",
            " input_1 (InputLayer)           [(None, 9)]          0           []                               \n",
            "                                                                                                  \n",
            " input_2 (InputLayer)           [(None, 10)]         0           []                               \n",
            "                                                                                                  \n",
            " embedding (Embedding)          (None, 9, 300)       539700      ['input_1[0][0]']                \n",
            "                                                                                                  \n",
            " embedding_1 (Embedding)        (None, 10, 128)      231296      ['input_2[0][0]']                \n",
            "                                                                                                  \n",
            " lstm_1 (LSTM)                  [(None, 128),        219648      ['embedding[0][0]']              \n",
            "                                 (None, 128),                                                     \n",
            "                                 (None, 128)]                                                     \n",
            "                                                                                                  \n",
            " lstm_3 (LSTM)                  [(None, 10, 128),    131584      ['embedding_1[0][0]',            \n",
            "                                 (None, 128),                     'lstm_1[0][1]',                 \n",
            "                                 (None, 128)]                     'lstm_1[0][2]']                 \n",
            "                                                                                                  \n",
            " dense (Dense)                  (None, 10, 1807)     233103      ['lstm_3[0][0]']                 \n",
            "                                                                                                  \n",
            "==================================================================================================\n",
            "Total params: 1,355,331\n",
            "Trainable params: 815,631\n",
            "Non-trainable params: 539,700\n",
            "__________________________________________________________________________________________________\n"
          ]
        }
      ],
      "source": [
        "from keras.models import Model\n",
        "from keras.layers import Input, LSTM, Dense\n",
        "\n",
        "n_units = 128\n",
        "\n",
        "# define training encoder\n",
        "encoder_inputs = Input(shape=(max_input_len))\n",
        "# Definición de la capa de embedding para encoder\n",
        "encoder_embedding_layer = Embedding(\n",
        "          input_dim=nb_words,  # definido en el Tokenizador\n",
        "          output_dim=embed_dim,  # dimensión de los embeddings utilizados\n",
        "          input_length=max_input_len, # máxima sentencia de entrada\n",
        "          weights=[embedding_matrix],  # matrix de embeddings\n",
        "          trainable=False)      # marcar como layer no entrenable\n",
        "# Incorporación de capa de embedding en encoder\n",
        "encoder_inputs_x = encoder_embedding_layer(encoder_inputs)\n",
        "# LSTM del encoder con dropout\n",
        "encoder = LSTM(n_units, return_state=True, dropout=0.2)\n",
        "encoder = LSTM(n_units, return_state=True, dropout=0.2)\n",
        "encoder_outputs, state_h, state_c = encoder(encoder_inputs_x)\n",
        "encoder_states = [state_h, state_c]\n",
        "\n",
        "# define training decoder\n",
        "decoder_inputs = Input(shape=(max_out_len))\n",
        "# Definición de la capa de embedding para decoder\n",
        "decoder_embedding_layer = Embedding(input_dim=num_words_output, output_dim=n_units, input_length=max_out_len)\n",
        "# Incorporación de capa de embedding en decoder\n",
        "decoder_inputs_x = decoder_embedding_layer(decoder_inputs)\n",
        "# LSTM del encoder con dropout\n",
        "decoder_lstm = LSTM(n_units, return_sequences=True, return_state=True, dropout=0.2)\n",
        "decoder_lstm = LSTM(n_units, return_sequences=True, return_state=True, dropout=0.2)\n",
        "decoder_outputs, _, _ = decoder_lstm(decoder_inputs_x, initial_state=encoder_states)\n",
        "\n",
        "# Capa densa\n",
        "decoder_dense = Dense(num_words_output, activation='softmax')\n",
        "decoder_outputs = decoder_dense(decoder_outputs)\n",
        "model = Model([encoder_inputs, decoder_inputs], decoder_outputs)\n",
        "\n",
        "model.compile(loss='categorical_crossentropy', optimizer=\"Adam\", metrics=['accuracy'])\n",
        "model.summary()"
      ]
    },
    {
      "cell_type": "code",
      "execution_count": 19,
      "metadata": {
        "colab": {
          "base_uri": "https://localhost:8080/",
          "height": 533
        },
        "id": "YpfB6r9WQHIm",
        "outputId": "23d37844-7ccd-4dd6-e056-dd808874e7e6"
      },
      "outputs": [
        {
          "data": {
            "image/png": "[encoded data removed]",
            "text/plain": [
              "<IPython.core.display.Image object>"
            ]
          },
          "execution_count": 19,
          "metadata": {},
          "output_type": "execute_result"
        }
      ],
      "source": [
        "# Modelo completo (encoder+decoder) para poder entrenar\n",
        "from keras.utils.vis_utils import plot_model\n",
        "plot_model(model, to_file='model_plot.png', show_shapes=True, show_layer_names=True)"
      ]
    },
    {
      "cell_type": "code",
      "execution_count": 20,
      "metadata": {
        "colab": {
          "base_uri": "https://localhost:8080/",
          "height": 312
        },
        "id": "H6Bjs9ZUQTJ4",
        "outputId": "2e5f6e74-7852-48d9-9b24-eed9771a8ad4"
      },
      "outputs": [
        {
          "data": {
            "image/png": "[encoded data removed]",
            "text/plain": [
              "<IPython.core.display.Image object>"
            ]
          },
          "execution_count": 20,
          "metadata": {},
          "output_type": "execute_result"
        }
      ],
      "source": [
        "# Modelo solo encoder\n",
        "\n",
        "# define inference encoder\n",
        "encoder_model = Model(encoder_inputs, encoder_states)\n",
        "\n",
        "from keras.utils.vis_utils import plot_model\n",
        "plot_model(encoder_model, to_file='encoder_plot.png', show_shapes=True, show_layer_names=True)"
      ]
    },
    {
      "cell_type": "code",
      "execution_count": 21,
      "metadata": {
        "colab": {
          "base_uri": "https://localhost:8080/",
          "height": 422
        },
        "id": "KrQNhQsyQng-",
        "outputId": "5a8793a3-4bae-490c-f8a9-1fdc04fea636"
      },
      "outputs": [
        {
          "data": {
            "image/png": "[encoded data removed]",
            "text/plain": [
              "<IPython.core.display.Image object>"
            ]
          },
          "execution_count": 21,
          "metadata": {},
          "output_type": "execute_result"
        }
      ],
      "source": [
        "# Modelo solo decoder (para realizar inferencia)\n",
        "from keras.utils.vis_utils import plot_model\n",
        "\n",
        "# define inference decoder\n",
        "decoder_state_input_h = Input(shape=(n_units,))\n",
        "decoder_state_input_c = Input(shape=(n_units,))\n",
        "decoder_states_inputs = [decoder_state_input_h, decoder_state_input_c]\n",
        "\n",
        "# EN cada predicción habrá una sola palabra de entrada al decoder,\n",
        "# que es la realimentación de la palabra anterior\n",
        "# por lo que hay que modificar el input shup de la layer de Embedding\n",
        "decoder_inputs_single = Input(shape=(1,))\n",
        "decoder_inputs_single_x = decoder_embedding_layer(decoder_inputs_single)\n",
        "\n",
        "decoder_outputs, state_h, state_c = decoder_lstm(decoder_inputs_single_x, initial_state=decoder_states_inputs)\n",
        "decoder_states = [state_h, state_c]\n",
        "decoder_outputs = decoder_dense(decoder_outputs)\n",
        "decoder_model = Model([decoder_inputs_single] + decoder_states_inputs, [decoder_outputs] + decoder_states)\n",
        "\n",
        "plot_model(decoder_model, to_file='decoder_plot.png', show_shapes=True, show_layer_names=True)"
      ]
    },
    {
      "cell_type": "markdown",
      "metadata": {
        "id": "jrPfEy_sZ4Yn"
      },
      "source": [
        "Se efectúa el entrenamiento del modelo. Parra mejorar la performance, se ejecuta con 70 épocas."
      ]
    },
    {
      "cell_type": "code",
      "execution_count": 22,
      "metadata": {
        "colab": {
          "base_uri": "https://localhost:8080/"
        },
        "id": "3jce25UnQsNU",
        "outputId": "ca0f6783-6ae6-4875-d7a6-c1f28d231e8f"
      },
      "outputs": [
        {
          "name": "stdout",
          "output_type": "stream",
          "text": [
            "Epoch 1/70\n",
            "151/151 [==============================] - 12s 17ms/step - loss: 3.0597 - accuracy: 0.5154 - val_loss: 2.3036 - val_accuracy: 0.6289\n",
            "Epoch 2/70\n",
            "151/151 [==============================] - 2s 11ms/step - loss: 2.1023 - accuracy: 0.6223 - val_loss: 2.1131 - val_accuracy: 0.6457\n",
            "Epoch 3/70\n",
            "151/151 [==============================] - 2s 11ms/step - loss: 1.8590 - accuracy: 0.6695 - val_loss: 1.9521 - val_accuracy: 0.6851\n",
            "Epoch 4/70\n",
            "151/151 [==============================] - 2s 12ms/step - loss: 1.6758 - accuracy: 0.7046 - val_loss: 1.8524 - val_accuracy: 0.6976\n",
            "Epoch 5/70\n",
            "151/151 [==============================] - 2s 12ms/step - loss: 1.5620 - accuracy: 0.7182 - val_loss: 1.7951 - val_accuracy: 0.7056\n",
            "Epoch 6/70\n",
            "151/151 [==============================] - 3s 20ms/step - loss: 1.4842 - accuracy: 0.7293 - val_loss: 1.7575 - val_accuracy: 0.7097\n",
            "Epoch 7/70\n",
            "151/151 [==============================] - 2s 13ms/step - loss: 1.4258 - accuracy: 0.7354 - val_loss: 1.7347 - val_accuracy: 0.7116\n",
            "Epoch 8/70\n",
            "151/151 [==============================] - 2s 11ms/step - loss: 1.3776 - accuracy: 0.7382 - val_loss: 1.7117 - val_accuracy: 0.7144\n",
            "Epoch 9/70\n",
            "151/151 [==============================] - 2s 11ms/step - loss: 1.3379 - accuracy: 0.7436 - val_loss: 1.6915 - val_accuracy: 0.7197\n",
            "Epoch 10/70\n",
            "151/151 [==============================] - 2s 12ms/step - loss: 1.3028 - accuracy: 0.7478 - val_loss: 1.6853 - val_accuracy: 0.7151\n",
            "Epoch 11/70\n",
            "151/151 [==============================] - 2s 12ms/step - loss: 1.2720 - accuracy: 0.7501 - val_loss: 1.6747 - val_accuracy: 0.7234\n",
            "Epoch 12/70\n",
            "151/151 [==============================] - 2s 12ms/step - loss: 1.2442 - accuracy: 0.7547 - val_loss: 1.6706 - val_accuracy: 0.7203\n",
            "Epoch 13/70\n",
            "151/151 [==============================] - 2s 12ms/step - loss: 1.2184 - accuracy: 0.7583 - val_loss: 1.6641 - val_accuracy: 0.7244\n",
            "Epoch 14/70\n",
            "151/151 [==============================] - 2s 12ms/step - loss: 1.1960 - accuracy: 0.7613 - val_loss: 1.6621 - val_accuracy: 0.7278\n",
            "Epoch 15/70\n",
            "151/151 [==============================] - 2s 15ms/step - loss: 1.1745 - accuracy: 0.7637 - val_loss: 1.6576 - val_accuracy: 0.7278\n",
            "Epoch 16/70\n",
            "151/151 [==============================] - 3s 22ms/step - loss: 1.1548 - accuracy: 0.7658 - val_loss: 1.6522 - val_accuracy: 0.7292\n",
            "Epoch 17/70\n",
            "151/151 [==============================] - 3s 22ms/step - loss: 1.1352 - accuracy: 0.7671 - val_loss: 1.6555 - val_accuracy: 0.7287\n",
            "Epoch 18/70\n",
            "151/151 [==============================] - 3s 18ms/step - loss: 1.1170 - accuracy: 0.7694 - val_loss: 1.6537 - val_accuracy: 0.7307\n",
            "Epoch 19/70\n",
            "151/151 [==============================] - 2s 12ms/step - loss: 1.0998 - accuracy: 0.7719 - val_loss: 1.6531 - val_accuracy: 0.7312\n",
            "Epoch 20/70\n",
            "151/151 [==============================] - 2s 12ms/step - loss: 1.0835 - accuracy: 0.7736 - val_loss: 1.6529 - val_accuracy: 0.7316\n",
            "Epoch 21/70\n",
            "151/151 [==============================] - 2s 12ms/step - loss: 1.0672 - accuracy: 0.7753 - val_loss: 1.6546 - val_accuracy: 0.7335\n",
            "Epoch 22/70\n",
            "151/151 [==============================] - 2s 12ms/step - loss: 1.0526 - accuracy: 0.7761 - val_loss: 1.6613 - val_accuracy: 0.7351\n",
            "Epoch 23/70\n",
            "151/151 [==============================] - 2s 12ms/step - loss: 1.0369 - accuracy: 0.7789 - val_loss: 1.6562 - val_accuracy: 0.7336\n",
            "Epoch 24/70\n",
            "151/151 [==============================] - 2s 12ms/step - loss: 1.0218 - accuracy: 0.7795 - val_loss: 1.6653 - val_accuracy: 0.7339\n",
            "Epoch 25/70\n",
            "151/151 [==============================] - 2s 12ms/step - loss: 1.0084 - accuracy: 0.7813 - val_loss: 1.6633 - val_accuracy: 0.7365\n",
            "Epoch 26/70\n",
            "151/151 [==============================] - 2s 12ms/step - loss: 0.9946 - accuracy: 0.7823 - val_loss: 1.6626 - val_accuracy: 0.7355\n",
            "Epoch 27/70\n",
            "151/151 [==============================] - 2s 12ms/step - loss: 0.9825 - accuracy: 0.7842 - val_loss: 1.6716 - val_accuracy: 0.7348\n",
            "Epoch 28/70\n",
            "151/151 [==============================] - 2s 12ms/step - loss: 0.9700 - accuracy: 0.7850 - val_loss: 1.6739 - val_accuracy: 0.7351\n",
            "Epoch 29/70\n",
            "151/151 [==============================] - 2s 12ms/step - loss: 0.9571 - accuracy: 0.7858 - val_loss: 1.6780 - val_accuracy: 0.7351\n",
            "Epoch 30/70\n",
            "151/151 [==============================] - 2s 12ms/step - loss: 0.9443 - accuracy: 0.7891 - val_loss: 1.6788 - val_accuracy: 0.7358\n",
            "Epoch 31/70\n",
            "151/151 [==============================] - 2s 12ms/step - loss: 0.9334 - accuracy: 0.7887 - val_loss: 1.6843 - val_accuracy: 0.7355\n",
            "Epoch 32/70\n",
            "151/151 [==============================] - 2s 12ms/step - loss: 0.9224 - accuracy: 0.7912 - val_loss: 1.6841 - val_accuracy: 0.7367\n",
            "Epoch 33/70\n",
            "151/151 [==============================] - 2s 12ms/step - loss: 0.9111 - accuracy: 0.7929 - val_loss: 1.6919 - val_accuracy: 0.7359\n",
            "Epoch 34/70\n",
            "151/151 [==============================] - 2s 12ms/step - loss: 0.9002 - accuracy: 0.7949 - val_loss: 1.6966 - val_accuracy: 0.7358\n",
            "Epoch 35/70\n",
            "151/151 [==============================] - 2s 12ms/step - loss: 0.8896 - accuracy: 0.7973 - val_loss: 1.7067 - val_accuracy: 0.7374\n",
            "Epoch 36/70\n",
            "151/151 [==============================] - 2s 12ms/step - loss: 0.8791 - accuracy: 0.7988 - val_loss: 1.7043 - val_accuracy: 0.7370\n",
            "Epoch 37/70\n",
            "151/151 [==============================] - 2s 12ms/step - loss: 0.8688 - accuracy: 0.7989 - val_loss: 1.7116 - val_accuracy: 0.7377\n",
            "Epoch 38/70\n",
            "151/151 [==============================] - 2s 12ms/step - loss: 0.8584 - accuracy: 0.8008 - val_loss: 1.7149 - val_accuracy: 0.7360\n",
            "Epoch 39/70\n",
            "151/151 [==============================] - 2s 12ms/step - loss: 0.8496 - accuracy: 0.8022 - val_loss: 1.7230 - val_accuracy: 0.7360\n",
            "Epoch 40/70\n",
            "151/151 [==============================] - 2s 12ms/step - loss: 0.8395 - accuracy: 0.8037 - val_loss: 1.7285 - val_accuracy: 0.7355\n",
            "Epoch 41/70\n",
            "151/151 [==============================] - 2s 12ms/step - loss: 0.8309 - accuracy: 0.8059 - val_loss: 1.7349 - val_accuracy: 0.7378\n",
            "Epoch 42/70\n",
            "151/151 [==============================] - 2s 12ms/step - loss: 0.8217 - accuracy: 0.8071 - val_loss: 1.7403 - val_accuracy: 0.7374\n",
            "Epoch 43/70\n",
            "151/151 [==============================] - 2s 12ms/step - loss: 0.8146 - accuracy: 0.8084 - val_loss: 1.7473 - val_accuracy: 0.7347\n",
            "Epoch 44/70\n",
            "151/151 [==============================] - 3s 17ms/step - loss: 0.8067 - accuracy: 0.8087 - val_loss: 1.7524 - val_accuracy: 0.7363\n",
            "Epoch 45/70\n",
            "151/151 [==============================] - 2s 12ms/step - loss: 0.7973 - accuracy: 0.8108 - val_loss: 1.7571 - val_accuracy: 0.7379\n",
            "Epoch 46/70\n",
            "151/151 [==============================] - 2s 12ms/step - loss: 0.7891 - accuracy: 0.8114 - val_loss: 1.7650 - val_accuracy: 0.7358\n",
            "Epoch 47/70\n",
            "151/151 [==============================] - 2s 12ms/step - loss: 0.7809 - accuracy: 0.8135 - val_loss: 1.7717 - val_accuracy: 0.7355\n",
            "Epoch 48/70\n",
            "151/151 [==============================] - 2s 12ms/step - loss: 0.7739 - accuracy: 0.8138 - val_loss: 1.7811 - val_accuracy: 0.7363\n",
            "Epoch 49/70\n",
            "151/151 [==============================] - 2s 11ms/step - loss: 0.7666 - accuracy: 0.8151 - val_loss: 1.7829 - val_accuracy: 0.7364\n",
            "Epoch 50/70\n",
            "151/151 [==============================] - 2s 12ms/step - loss: 0.7578 - accuracy: 0.8171 - val_loss: 1.7902 - val_accuracy: 0.7376\n",
            "Epoch 51/70\n",
            "151/151 [==============================] - 2s 12ms/step - loss: 0.7523 - accuracy: 0.8175 - val_loss: 1.7999 - val_accuracy: 0.7357\n",
            "Epoch 52/70\n",
            "151/151 [==============================] - 2s 12ms/step - loss: 0.7447 - accuracy: 0.8184 - val_loss: 1.8033 - val_accuracy: 0.7381\n",
            "Epoch 53/70\n",
            "151/151 [==============================] - 2s 12ms/step - loss: 0.7360 - accuracy: 0.8197 - val_loss: 1.8130 - val_accuracy: 0.7369\n",
            "Epoch 54/70\n",
            "151/151 [==============================] - 2s 12ms/step - loss: 0.7314 - accuracy: 0.8199 - val_loss: 1.8167 - val_accuracy: 0.7347\n",
            "Epoch 55/70\n",
            "151/151 [==============================] - 2s 12ms/step - loss: 0.7232 - accuracy: 0.8220 - val_loss: 1.8304 - val_accuracy: 0.7373\n",
            "Epoch 56/70\n",
            "151/151 [==============================] - 2s 12ms/step - loss: 0.7165 - accuracy: 0.8235 - val_loss: 1.8355 - val_accuracy: 0.7376\n",
            "Epoch 57/70\n",
            "151/151 [==============================] - 2s 12ms/step - loss: 0.7094 - accuracy: 0.8251 - val_loss: 1.8469 - val_accuracy: 0.7370\n",
            "Epoch 58/70\n",
            "151/151 [==============================] - 2s 12ms/step - loss: 0.7028 - accuracy: 0.8257 - val_loss: 1.8526 - val_accuracy: 0.7363\n",
            "Epoch 59/70\n",
            "151/151 [==============================] - 2s 15ms/step - loss: 0.6946 - accuracy: 0.8268 - val_loss: 1.8599 - val_accuracy: 0.7350\n",
            "Epoch 60/70\n",
            "151/151 [==============================] - 2s 13ms/step - loss: 0.6892 - accuracy: 0.8272 - val_loss: 1.8653 - val_accuracy: 0.7375\n",
            "Epoch 61/70\n",
            "151/151 [==============================] - 2s 12ms/step - loss: 0.6821 - accuracy: 0.8293 - val_loss: 1.8744 - val_accuracy: 0.7370\n",
            "Epoch 62/70\n",
            "151/151 [==============================] - 2s 12ms/step - loss: 0.6758 - accuracy: 0.8293 - val_loss: 1.8791 - val_accuracy: 0.7383\n",
            "Epoch 63/70\n",
            "151/151 [==============================] - 2s 12ms/step - loss: 0.6709 - accuracy: 0.8305 - val_loss: 1.8873 - val_accuracy: 0.7357\n",
            "Epoch 64/70\n",
            "151/151 [==============================] - 2s 12ms/step - loss: 0.6634 - accuracy: 0.8323 - val_loss: 1.8958 - val_accuracy: 0.7360\n",
            "Epoch 65/70\n",
            "151/151 [==============================] - 2s 12ms/step - loss: 0.6573 - accuracy: 0.8337 - val_loss: 1.9021 - val_accuracy: 0.7367\n",
            "Epoch 66/70\n",
            "151/151 [==============================] - 2s 12ms/step - loss: 0.6502 - accuracy: 0.8351 - val_loss: 1.9101 - val_accuracy: 0.7365\n",
            "Epoch 67/70\n",
            "151/151 [==============================] - 2s 11ms/step - loss: 0.6445 - accuracy: 0.8354 - val_loss: 1.9204 - val_accuracy: 0.7350\n",
            "Epoch 68/70\n",
            "151/151 [==============================] - 2s 11ms/step - loss: 0.6371 - accuracy: 0.8373 - val_loss: 1.9309 - val_accuracy: 0.7335\n",
            "Epoch 69/70\n",
            "151/151 [==============================] - 2s 11ms/step - loss: 0.6319 - accuracy: 0.8387 - val_loss: 1.9375 - val_accuracy: 0.7350\n",
            "Epoch 70/70\n",
            "151/151 [==============================] - 2s 11ms/step - loss: 0.6268 - accuracy: 0.8377 - val_loss: 1.9458 - val_accuracy: 0.7361\n"
          ]
        }
      ],
      "source": [
        "hist = model.fit(\n",
        "    [encoder_input_sequences, decoder_input_sequences],\n",
        "    decoder_targets,\n",
        "    epochs=70, \n",
        "    validation_split=0.2)"
      ]
    },
    {
      "cell_type": "markdown",
      "metadata": {
        "id": "COJTjdbJcd1F"
      },
      "source": [
        "Gráfico con las métricas de entrenamiento"
      ]
    },
    {
      "cell_type": "code",
      "execution_count": 23,
      "metadata": {
        "colab": {
          "base_uri": "https://localhost:8080/",
          "height": 266
        },
        "id": "a5PkbatGQ47G",
        "outputId": "a05de190-4b3d-4ebd-a26c-02b6462ba448"
      },
      "outputs": [
        {
          "data": {
            "image/png": "[encoded data removed]",
            "text/plain": [
              "<Figure size 432x288 with 1 Axes>"
            ]
          },
          "metadata": {
            "needs_background": "light"
          },
          "output_type": "display_data"
        }
      ],
      "source": [
        "import matplotlib.pyplot as plt\n",
        "import seaborn as sns\n",
        "\n",
        "# Entrenamiento\n",
        "epoch_count = range(1, len(hist.history['accuracy']) + 1)\n",
        "sns.lineplot(x=epoch_count,  y=hist.history['accuracy'], label='train')\n",
        "sns.lineplot(x=epoch_count,  y=hist.history['val_accuracy'], label='valid')\n",
        "plt.show()"
      ]
    },
    {
      "cell_type": "markdown",
      "metadata": {
        "id": "AjGkLmIhdKcM"
      },
      "source": [
        "El modelo presenta cierto grado de overfitting, lo cual puede afectar la calidad de las inferencias. "
      ]
    },
    {
      "cell_type": "markdown",
      "metadata": {
        "id": "Zbwn0ekDy_s2"
      },
      "source": [
        "### 5 - Inferencia\n",
        "Experimentar el funcionamiento de su modelo. Recuerde que debe realizar la inferencia de los modelos por separado de encoder y decoder."
      ]
    },
    {
      "cell_type": "markdown",
      "metadata": {
        "id": "u60nC8HRduXH"
      },
      "source": [
        "Primero se arma el conversor de índice a palabra"
      ]
    },
    {
      "cell_type": "code",
      "execution_count": 26,
      "metadata": {
        "id": "ViYgL0xnRCeI"
      },
      "outputs": [],
      "source": [
        "idx2word_input = {v:k for k, v in word2idx_inputs.items()}\n",
        "idx2word_target = {v:k for k, v in word2idx_outputs.items()}"
      ]
    },
    {
      "cell_type": "markdown",
      "metadata": {
        "id": "3F7PLFxMd7T_"
      },
      "source": [
        "Luego se arma la función que será la que genere las respuestas del bot"
      ]
    },
    {
      "cell_type": "code",
      "execution_count": 24,
      "metadata": {
        "id": "vIRuHY2IRJIQ"
      },
      "outputs": [],
      "source": [
        "def bot_answer(input_seq):\n",
        "    # Se transforma la sequencia de entrada a los stados \"h\" y \"c\" de la LSTM\n",
        "    # para enviar la primera vez al decoder\"\n",
        "    states_value = encoder_model.predict(input_seq)\n",
        "\n",
        "    # Se inicializa la secuencia de entrada al decoder como \"<sos>\"\n",
        "    target_seq = np.zeros((1, 1))\n",
        "    target_seq[0, 0] = word2idx_outputs['<sos>']\n",
        "\n",
        "    # Se obtiene el indice que finaliza la inferencia\n",
        "    eos = word2idx_outputs['<eos>']\n",
        "    \n",
        "    output_sentence = []\n",
        "    for _ in range(max_out_len):\n",
        "        # Predicción del próximo elemento\n",
        "        output_tokens, h, c = decoder_model.predict([target_seq] + states_value)\n",
        "        idx = np.argmax(output_tokens[0, 0, :])\n",
        "\n",
        "        # Si es \"end of sentece <eos>\" se acaba\n",
        "        if eos == idx:\n",
        "            break\n",
        "\n",
        "        # Transformar ídx a palabra\n",
        "        word = ''        \n",
        "        if idx > 0:\n",
        "            word = idx2word_target[idx]\n",
        "            output_sentence.append(word)\n",
        "\n",
        "        # Actualizar los estados dado la ultimo prediccion\n",
        "        states_value = [h, c]\n",
        "\n",
        "        # Actualizar secuencia de entrada con la salida (re-alimentacion)\n",
        "        target_seq[0, 0] = idx\n",
        "\n",
        "    return ' '.join(output_sentence)"
      ]
    },
    {
      "cell_type": "markdown",
      "metadata": {
        "id": "2u5xVnKejYC5"
      },
      "source": [
        "Ahora si se pone a prueba el bot:"
      ]
    },
    {
      "cell_type": "code",
      "execution_count": 27,
      "metadata": {
        "colab": {
          "base_uri": "https://localhost:8080/"
        },
        "id": "EZxP1jeoS2Yy",
        "outputId": "e2df822d-6f2e-475b-990d-f6984df3175f"
      },
      "outputs": [
        {
          "name": "stdout",
          "output_type": "stream",
          "text": [
            "Frase usuario: Hello\n",
            "Respuesta bot :  hello how are you\n",
            "Frase usuario: Hello, how are you?\n",
            "Respuesta bot :  i m fine\n",
            "Frase usuario: How old are you?\n",
            "Respuesta bot :  i am fine\n",
            "Frase usuario: You are wrong\n",
            "Respuesta bot :  i am not sure what you mean\n",
            "Frase usuario: What is your name?\n",
            "Respuesta bot :  i like to go to the beach\n",
            "Frase usuario: Do you like listening to music?\n",
            "Respuesta bot :  i like to play video games\n",
            "Frase usuario: Which game?\n",
            "Respuesta bot :  i love to read\n",
            "Frase usuario: what do you like to play?\n",
            "Respuesta bot :  i like to read books\n",
            "Frase usuario: What book do you like?\n",
            "Respuesta bot :  i like to play video games\n",
            "Frase usuario: I want to eat\n",
            "Respuesta bot :  do you have any hobbies\n",
            "Frase usuario: I like paint\n",
            "Respuesta bot :  i love to play video games\n",
            "Frase usuario: 0\n"
          ]
        }
      ],
      "source": [
        "frase_analizar = input('Frase usuario: ')\n",
        "while frase_analizar != '0':\n",
        "  frase_tokenizada = input_tokenizer.texts_to_sequences([frase_analizar])[0]\n",
        "  frase_encodeada = pad_sequences([frase_tokenizada], maxlen=max_input_len)\n",
        "  respuesta_bot = bot_answer(frase_encodeada)\n",
        "  print('Respuesta bot : ',respuesta_bot)\n",
        "  frase_analizar = input('Frase usuario: ')"
      ]
    },
    {
      "cell_type": "markdown",
      "metadata": {
        "id": "SlV0IO7vgc-J"
      },
      "source": [
        "## Conclusiones\n",
        "Se empleó _Google Colab_, accediendo a recursos computacionales que permitieron:\n",
        "- Utilizar FastText como constructor de embeddings. \n",
        "- Cambiar algo la arquitectura de la red, agregando una capa adicional al encoder y decoder.\n",
        "El objetivo era probar si era posible mejorar las métricas de entrenamiento. \n",
        "Es posible que el overfitting no haya permitido respuestas que continuaran el hilo conversacional al iniciar el diálogo. Aunque es cierto que influye el tamaño y calidad del dataset. \n",
        "\n",
        "Siempre en inglés fue capaza de identificar la sintaxis: mayúsculas y signo de interrogación. Esto es, no respondió con no saber de qué se le estaba hablando. Si se observa que sigue un patrón o que confunde ciertas temáticas. Lo relacionado con juegos o alguna acción lo vincula a la lectura y viceversa. Puede seguir probándose con más temas para observar con que los relaciona. "
      ]
    }
  ],
  "metadata": {
    "accelerator": "GPU",
    "colab": {
      "collapsed_sections": [],
      "name": "6- bot_qa.ipynb",
      "provenance": []
    },
    "gpuClass": "standard",
    "kernelspec": {
      "display_name": "Python 3",
      "name": "python3"
    },
    "language_info": {
      "name": "python"
    }
  },
  "nbformat": 4,
  "nbformat_minor": 0
}
