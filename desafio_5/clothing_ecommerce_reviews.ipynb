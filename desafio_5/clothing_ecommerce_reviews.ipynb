{
  "nbformat": 4,
  "nbformat_minor": 0,
  "metadata": {
    "colab": {
      "name": "5 - clothing_ecommerce_reviews.ipynb",
      "provenance": [],
      "collapsed_sections": [],
      "toc_visible": true
    },
    "kernelspec": {
      "name": "python3",
      "display_name": "Python 3"
    },
    "language_info": {
      "name": "python"
    },
    "accelerator": "GPU",
    "gpuClass": "standard"
  },
  "cells": [
    {
      "cell_type": "markdown",
      "metadata": {
        "id": "kBLpTr7plguX"
      },
      "source": [
        "<img src=\"https://github.com/hernancontigiani/ceia_memorias_especializacion/raw/master/Figures/logoFIUBA.jpg\" width=\"500\" align=\"center\">\n",
        "\n",
        "\n",
        "# Procesamiento de lenguaje natural\n",
        "## Sentiment analysis con Embeddings + LSTM"
      ]
    },
    {
      "cell_type": "markdown",
      "metadata": {
        "id": "9W6nuajhlqZD"
      },
      "source": [
        "### Objetivo\n",
        "El objetivo es utilizar las críticas de compradores de ropa para que el sistema determine la evaluación del comprador y su crítica (cuantas estrellas le asigna al producto).\n",
        "\n",
        "Se realizó con embeddings propios y con embeddings Fasttext. \n",
        "En este trabajo se presenta la arquitectura con la que fue posible obtener la mejor performance. Aunque ello no implica que hayan sido buenos. Sino más bien todo lo contrario. En ambos casos se ensayó:\n",
        "- Cambiando la cantidad de capas y neuronas.\n",
        "- Cantidad de épocas. \n",
        "\n",
        "\n",
        "Al final se mencionan las conclusiones de los resultados obtenidos"
      ]
    },
    {
      "cell_type": "code",
      "source": [
        "!pip install --upgrade --no-cache-dir gdown --quiet"
      ],
      "metadata": {
        "id": "i6zvzv3qZ6xS"
      },
      "execution_count": 91,
      "outputs": []
    },
    {
      "cell_type": "code",
      "metadata": {
        "id": "hCpOVzJdl8_p"
      },
      "source": [
        "import numpy as np\n",
        "import random\n",
        "import io\n",
        "import pickle\n",
        "import pandas as pd\n",
        "\n",
        "import matplotlib.pyplot as plt\n",
        "import seaborn as sns\n",
        "\n",
        "from tensorflow import keras\n",
        "from tensorflow.keras import layers\n",
        "\n",
        "from keras.utils.np_utils import to_categorical\n",
        "from keras.preprocessing.sequence import pad_sequences\n",
        "from keras.models import Sequential\n",
        "from keras.layers import Dense\n",
        "from keras.layers import LSTM\n",
        "from keras.layers import Embedding"
      ],
      "execution_count": 92,
      "outputs": []
    },
    {
      "cell_type": "markdown",
      "metadata": {
        "id": "8UPeRkrAmbF3"
      },
      "source": [
        "### Datos\n",
        "Utilizaremos como dataset críticas de compradores de ropa (eCommerce) los cuales puntuaron a cada prenda con un puntaje de 1 a 5 estrellas.\\\n",
        "Referencia del dataset: [LINK](https://www.kaggle.com/nicapotato/womens-ecommerce-clothing-reviews/version/1)"
      ]
    },
    {
      "cell_type": "code",
      "metadata": {
        "id": "C7jLvTU3lSyL",
        "colab": {
          "base_uri": "https://localhost:8080/"
        },
        "outputId": "bdf81cd5-65db-4f65-ee13-52294d75af3f"
      },
      "source": [
        "# Descargar la carpeta de dataset\n",
        "import os\n",
        "import gdown\n",
        "if os.access('clothing_ecommerce_reviews.csv', os.F_OK) is False:\n",
        "    url = 'https://drive.google.com/uc?id=1k2Dz4oY5uxI3JEaT6m-L2T2HvLkECYIP'\n",
        "    output = 'clothing_ecommerce_reviews.csv'\n",
        "    gdown.download(url, output, quiet=False)\n",
        "else:\n",
        "    print(\"El dataset ya se encuentra descargado\")"
      ],
      "execution_count": 93,
      "outputs": [
        {
          "output_type": "stream",
          "name": "stdout",
          "text": [
            "El dataset ya se encuentra descargado\n"
          ]
        }
      ]
    },
    {
      "cell_type": "code",
      "metadata": {
        "id": "o-SV1P3dnD1J",
        "colab": {
          "base_uri": "https://localhost:8080/",
          "height": 383
        },
        "outputId": "3432d926-e02c-48ba-93b1-377592953246"
      },
      "source": [
        "# Armar el dataset\n",
        "df = pd.read_csv('clothing_ecommerce_reviews.csv')\n",
        "df.drop(columns = ['Unnamed: 0'], inplace = True)\n",
        "df.head()"
      ],
      "execution_count": 94,
      "outputs": [
        {
          "output_type": "execute_result",
          "data": {
            "text/plain": [
              "   Clothing ID  Age                    Title  \\\n",
              "0          767   33                      NaN   \n",
              "1         1080   34                      NaN   \n",
              "2         1077   60  Some major design flaws   \n",
              "3         1049   50         My favorite buy!   \n",
              "4          847   47         Flattering shirt   \n",
              "\n",
              "                                         Review Text  Rating  Recommended IND  \\\n",
              "0  Absolutely wonderful - silky and sexy and comf...       4                1   \n",
              "1  Love this dress!  it's sooo pretty.  i happene...       5                1   \n",
              "2  I had such high hopes for this dress and reall...       3                0   \n",
              "3  I love, love, love this jumpsuit. it's fun, fl...       5                1   \n",
              "4  This shirt is very flattering to all due to th...       5                1   \n",
              "\n",
              "   Positive Feedback Count   Division Name Department Name Class Name  \n",
              "0                        0       Initmates        Intimate  Intimates  \n",
              "1                        4         General         Dresses    Dresses  \n",
              "2                        0         General         Dresses    Dresses  \n",
              "3                        0  General Petite         Bottoms      Pants  \n",
              "4                        6         General            Tops    Blouses  "
            ],
            "text/html": [
              "\n",
              "  <div id=\"df-96c073c1-d50f-43e2-9ca5-5d933f044165\">\n",
              "    <div class=\"colab-df-container\">\n",
              "      <div>\n",
              "<style scoped>\n",
              "    .dataframe tbody tr th:only-of-type {\n",
              "        vertical-align: middle;\n",
              "    }\n",
              "\n",
              "    .dataframe tbody tr th {\n",
              "        vertical-align: top;\n",
              "    }\n",
              "\n",
              "    .dataframe thead th {\n",
              "        text-align: right;\n",
              "    }\n",
              "</style>\n",
              "<table border=\"1\" class=\"dataframe\">\n",
              "  <thead>\n",
              "    <tr style=\"text-align: right;\">\n",
              "      <th></th>\n",
              "      <th>Clothing ID</th>\n",
              "      <th>Age</th>\n",
              "      <th>Title</th>\n",
              "      <th>Review Text</th>\n",
              "      <th>Rating</th>\n",
              "      <th>Recommended IND</th>\n",
              "      <th>Positive Feedback Count</th>\n",
              "      <th>Division Name</th>\n",
              "      <th>Department Name</th>\n",
              "      <th>Class Name</th>\n",
              "    </tr>\n",
              "  </thead>\n",
              "  <tbody>\n",
              "    <tr>\n",
              "      <th>0</th>\n",
              "      <td>767</td>\n",
              "      <td>33</td>\n",
              "      <td>NaN</td>\n",
              "      <td>Absolutely wonderful - silky and sexy and comf...</td>\n",
              "      <td>4</td>\n",
              "      <td>1</td>\n",
              "      <td>0</td>\n",
              "      <td>Initmates</td>\n",
              "      <td>Intimate</td>\n",
              "      <td>Intimates</td>\n",
              "    </tr>\n",
              "    <tr>\n",
              "      <th>1</th>\n",
              "      <td>1080</td>\n",
              "      <td>34</td>\n",
              "      <td>NaN</td>\n",
              "      <td>Love this dress!  it's sooo pretty.  i happene...</td>\n",
              "      <td>5</td>\n",
              "      <td>1</td>\n",
              "      <td>4</td>\n",
              "      <td>General</td>\n",
              "      <td>Dresses</td>\n",
              "      <td>Dresses</td>\n",
              "    </tr>\n",
              "    <tr>\n",
              "      <th>2</th>\n",
              "      <td>1077</td>\n",
              "      <td>60</td>\n",
              "      <td>Some major design flaws</td>\n",
              "      <td>I had such high hopes for this dress and reall...</td>\n",
              "      <td>3</td>\n",
              "      <td>0</td>\n",
              "      <td>0</td>\n",
              "      <td>General</td>\n",
              "      <td>Dresses</td>\n",
              "      <td>Dresses</td>\n",
              "    </tr>\n",
              "    <tr>\n",
              "      <th>3</th>\n",
              "      <td>1049</td>\n",
              "      <td>50</td>\n",
              "      <td>My favorite buy!</td>\n",
              "      <td>I love, love, love this jumpsuit. it's fun, fl...</td>\n",
              "      <td>5</td>\n",
              "      <td>1</td>\n",
              "      <td>0</td>\n",
              "      <td>General Petite</td>\n",
              "      <td>Bottoms</td>\n",
              "      <td>Pants</td>\n",
              "    </tr>\n",
              "    <tr>\n",
              "      <th>4</th>\n",
              "      <td>847</td>\n",
              "      <td>47</td>\n",
              "      <td>Flattering shirt</td>\n",
              "      <td>This shirt is very flattering to all due to th...</td>\n",
              "      <td>5</td>\n",
              "      <td>1</td>\n",
              "      <td>6</td>\n",
              "      <td>General</td>\n",
              "      <td>Tops</td>\n",
              "      <td>Blouses</td>\n",
              "    </tr>\n",
              "  </tbody>\n",
              "</table>\n",
              "</div>\n",
              "      <button class=\"colab-df-convert\" onclick=\"convertToInteractive('df-96c073c1-d50f-43e2-9ca5-5d933f044165')\"\n",
              "              title=\"Convert this dataframe to an interactive table.\"\n",
              "              style=\"display:none;\">\n",
              "        \n",
              "  <svg xmlns=\"http://www.w3.org/2000/svg\" height=\"24px\"viewBox=\"0 0 24 24\"\n",
              "       width=\"24px\">\n",
              "    <path d=\"M0 0h24v24H0V0z\" fill=\"none\"/>\n",
              "    <path d=\"M18.56 5.44l.94 2.06.94-2.06 2.06-.94-2.06-.94-.94-2.06-.94 2.06-2.06.94zm-11 1L8.5 8.5l.94-2.06 2.06-.94-2.06-.94L8.5 2.5l-.94 2.06-2.06.94zm10 10l.94 2.06.94-2.06 2.06-.94-2.06-.94-.94-2.06-.94 2.06-2.06.94z\"/><path d=\"M17.41 7.96l-1.37-1.37c-.4-.4-.92-.59-1.43-.59-.52 0-1.04.2-1.43.59L10.3 9.45l-7.72 7.72c-.78.78-.78 2.05 0 2.83L4 21.41c.39.39.9.59 1.41.59.51 0 1.02-.2 1.41-.59l7.78-7.78 2.81-2.81c.8-.78.8-2.07 0-2.86zM5.41 20L4 18.59l7.72-7.72 1.47 1.35L5.41 20z\"/>\n",
              "  </svg>\n",
              "      </button>\n",
              "      \n",
              "  <style>\n",
              "    .colab-df-container {\n",
              "      display:flex;\n",
              "      flex-wrap:wrap;\n",
              "      gap: 12px;\n",
              "    }\n",
              "\n",
              "    .colab-df-convert {\n",
              "      background-color: #E8F0FE;\n",
              "      border: none;\n",
              "      border-radius: 50%;\n",
              "      cursor: pointer;\n",
              "      display: none;\n",
              "      fill: #1967D2;\n",
              "      height: 32px;\n",
              "      padding: 0 0 0 0;\n",
              "      width: 32px;\n",
              "    }\n",
              "\n",
              "    .colab-df-convert:hover {\n",
              "      background-color: #E2EBFA;\n",
              "      box-shadow: 0px 1px 2px rgba(60, 64, 67, 0.3), 0px 1px 3px 1px rgba(60, 64, 67, 0.15);\n",
              "      fill: #174EA6;\n",
              "    }\n",
              "\n",
              "    [theme=dark] .colab-df-convert {\n",
              "      background-color: #3B4455;\n",
              "      fill: #D2E3FC;\n",
              "    }\n",
              "\n",
              "    [theme=dark] .colab-df-convert:hover {\n",
              "      background-color: #434B5C;\n",
              "      box-shadow: 0px 1px 3px 1px rgba(0, 0, 0, 0.15);\n",
              "      filter: drop-shadow(0px 1px 2px rgba(0, 0, 0, 0.3));\n",
              "      fill: #FFFFFF;\n",
              "    }\n",
              "  </style>\n",
              "\n",
              "      <script>\n",
              "        const buttonEl =\n",
              "          document.querySelector('#df-96c073c1-d50f-43e2-9ca5-5d933f044165 button.colab-df-convert');\n",
              "        buttonEl.style.display =\n",
              "          google.colab.kernel.accessAllowed ? 'block' : 'none';\n",
              "\n",
              "        async function convertToInteractive(key) {\n",
              "          const element = document.querySelector('#df-96c073c1-d50f-43e2-9ca5-5d933f044165');\n",
              "          const dataTable =\n",
              "            await google.colab.kernel.invokeFunction('convertToInteractive',\n",
              "                                                     [key], {});\n",
              "          if (!dataTable) return;\n",
              "\n",
              "          const docLinkHtml = 'Like what you see? Visit the ' +\n",
              "            '<a target=\"_blank\" href=https://colab.research.google.com/notebooks/data_table.ipynb>data table notebook</a>'\n",
              "            + ' to learn more about interactive tables.';\n",
              "          element.innerHTML = '';\n",
              "          dataTable['output_type'] = 'display_data';\n",
              "          await google.colab.output.renderOutput(dataTable, element);\n",
              "          const docLink = document.createElement('div');\n",
              "          docLink.innerHTML = docLinkHtml;\n",
              "          element.appendChild(docLink);\n",
              "        }\n",
              "      </script>\n",
              "    </div>\n",
              "  </div>\n",
              "  "
            ]
          },
          "metadata": {},
          "execution_count": 94
        }
      ]
    },
    {
      "cell_type": "markdown",
      "metadata": {
        "id": "q-OwSePKm-FK"
      },
      "source": [
        "### 1 - Limpieza de datos\n",
        "Alumno:\n",
        "- Del dataset unicamente utilizar las columnas \"Review Text\" y \"Rating.\n",
        "- Tranformar el rating 1-5 a una escala numérica de 0 a 4.\n",
        "\n"
      ]
    },
    {
      "cell_type": "code",
      "metadata": {
        "id": "-hc7-AmYnPC3",
        "colab": {
          "base_uri": "https://localhost:8080/",
          "height": 225
        },
        "outputId": "8c89face-5a05-459f-9d25-384d06fbfed6"
      },
      "source": [
        "df_reviews = df.loc[:, ['Review Text', 'Rating']].dropna()\n",
        "df_reviews['Rating'] = df_reviews['Rating'] - 1\n",
        "df_reviews.head()"
      ],
      "execution_count": 95,
      "outputs": [
        {
          "output_type": "execute_result",
          "data": {
            "text/plain": [
              "                                         Review Text  Rating\n",
              "0  Absolutely wonderful - silky and sexy and comf...       3\n",
              "1  Love this dress!  it's sooo pretty.  i happene...       4\n",
              "2  I had such high hopes for this dress and reall...       2\n",
              "3  I love, love, love this jumpsuit. it's fun, fl...       4\n",
              "4  This shirt is very flattering to all due to th...       4"
            ],
            "text/html": [
              "\n",
              "  <div id=\"df-b43d4d39-2387-439f-aaf1-acf61658e87d\">\n",
              "    <div class=\"colab-df-container\">\n",
              "      <div>\n",
              "<style scoped>\n",
              "    .dataframe tbody tr th:only-of-type {\n",
              "        vertical-align: middle;\n",
              "    }\n",
              "\n",
              "    .dataframe tbody tr th {\n",
              "        vertical-align: top;\n",
              "    }\n",
              "\n",
              "    .dataframe thead th {\n",
              "        text-align: right;\n",
              "    }\n",
              "</style>\n",
              "<table border=\"1\" class=\"dataframe\">\n",
              "  <thead>\n",
              "    <tr style=\"text-align: right;\">\n",
              "      <th></th>\n",
              "      <th>Review Text</th>\n",
              "      <th>Rating</th>\n",
              "    </tr>\n",
              "  </thead>\n",
              "  <tbody>\n",
              "    <tr>\n",
              "      <th>0</th>\n",
              "      <td>Absolutely wonderful - silky and sexy and comf...</td>\n",
              "      <td>3</td>\n",
              "    </tr>\n",
              "    <tr>\n",
              "      <th>1</th>\n",
              "      <td>Love this dress!  it's sooo pretty.  i happene...</td>\n",
              "      <td>4</td>\n",
              "    </tr>\n",
              "    <tr>\n",
              "      <th>2</th>\n",
              "      <td>I had such high hopes for this dress and reall...</td>\n",
              "      <td>2</td>\n",
              "    </tr>\n",
              "    <tr>\n",
              "      <th>3</th>\n",
              "      <td>I love, love, love this jumpsuit. it's fun, fl...</td>\n",
              "      <td>4</td>\n",
              "    </tr>\n",
              "    <tr>\n",
              "      <th>4</th>\n",
              "      <td>This shirt is very flattering to all due to th...</td>\n",
              "      <td>4</td>\n",
              "    </tr>\n",
              "  </tbody>\n",
              "</table>\n",
              "</div>\n",
              "      <button class=\"colab-df-convert\" onclick=\"convertToInteractive('df-b43d4d39-2387-439f-aaf1-acf61658e87d')\"\n",
              "              title=\"Convert this dataframe to an interactive table.\"\n",
              "              style=\"display:none;\">\n",
              "        \n",
              "  <svg xmlns=\"http://www.w3.org/2000/svg\" height=\"24px\"viewBox=\"0 0 24 24\"\n",
              "       width=\"24px\">\n",
              "    <path d=\"M0 0h24v24H0V0z\" fill=\"none\"/>\n",
              "    <path d=\"M18.56 5.44l.94 2.06.94-2.06 2.06-.94-2.06-.94-.94-2.06-.94 2.06-2.06.94zm-11 1L8.5 8.5l.94-2.06 2.06-.94-2.06-.94L8.5 2.5l-.94 2.06-2.06.94zm10 10l.94 2.06.94-2.06 2.06-.94-2.06-.94-.94-2.06-.94 2.06-2.06.94z\"/><path d=\"M17.41 7.96l-1.37-1.37c-.4-.4-.92-.59-1.43-.59-.52 0-1.04.2-1.43.59L10.3 9.45l-7.72 7.72c-.78.78-.78 2.05 0 2.83L4 21.41c.39.39.9.59 1.41.59.51 0 1.02-.2 1.41-.59l7.78-7.78 2.81-2.81c.8-.78.8-2.07 0-2.86zM5.41 20L4 18.59l7.72-7.72 1.47 1.35L5.41 20z\"/>\n",
              "  </svg>\n",
              "      </button>\n",
              "      \n",
              "  <style>\n",
              "    .colab-df-container {\n",
              "      display:flex;\n",
              "      flex-wrap:wrap;\n",
              "      gap: 12px;\n",
              "    }\n",
              "\n",
              "    .colab-df-convert {\n",
              "      background-color: #E8F0FE;\n",
              "      border: none;\n",
              "      border-radius: 50%;\n",
              "      cursor: pointer;\n",
              "      display: none;\n",
              "      fill: #1967D2;\n",
              "      height: 32px;\n",
              "      padding: 0 0 0 0;\n",
              "      width: 32px;\n",
              "    }\n",
              "\n",
              "    .colab-df-convert:hover {\n",
              "      background-color: #E2EBFA;\n",
              "      box-shadow: 0px 1px 2px rgba(60, 64, 67, 0.3), 0px 1px 3px 1px rgba(60, 64, 67, 0.15);\n",
              "      fill: #174EA6;\n",
              "    }\n",
              "\n",
              "    [theme=dark] .colab-df-convert {\n",
              "      background-color: #3B4455;\n",
              "      fill: #D2E3FC;\n",
              "    }\n",
              "\n",
              "    [theme=dark] .colab-df-convert:hover {\n",
              "      background-color: #434B5C;\n",
              "      box-shadow: 0px 1px 3px 1px rgba(0, 0, 0, 0.15);\n",
              "      filter: drop-shadow(0px 1px 2px rgba(0, 0, 0, 0.3));\n",
              "      fill: #FFFFFF;\n",
              "    }\n",
              "  </style>\n",
              "\n",
              "      <script>\n",
              "        const buttonEl =\n",
              "          document.querySelector('#df-b43d4d39-2387-439f-aaf1-acf61658e87d button.colab-df-convert');\n",
              "        buttonEl.style.display =\n",
              "          google.colab.kernel.accessAllowed ? 'block' : 'none';\n",
              "\n",
              "        async function convertToInteractive(key) {\n",
              "          const element = document.querySelector('#df-b43d4d39-2387-439f-aaf1-acf61658e87d');\n",
              "          const dataTable =\n",
              "            await google.colab.kernel.invokeFunction('convertToInteractive',\n",
              "                                                     [key], {});\n",
              "          if (!dataTable) return;\n",
              "\n",
              "          const docLinkHtml = 'Like what you see? Visit the ' +\n",
              "            '<a target=\"_blank\" href=https://colab.research.google.com/notebooks/data_table.ipynb>data table notebook</a>'\n",
              "            + ' to learn more about interactive tables.';\n",
              "          element.innerHTML = '';\n",
              "          dataTable['output_type'] = 'display_data';\n",
              "          await google.colab.output.renderOutput(dataTable, element);\n",
              "          const docLink = document.createElement('div');\n",
              "          docLink.innerHTML = docLinkHtml;\n",
              "          element.appendChild(docLink);\n",
              "        }\n",
              "      </script>\n",
              "    </div>\n",
              "  </div>\n",
              "  "
            ]
          },
          "metadata": {},
          "execution_count": 95
        }
      ]
    },
    {
      "cell_type": "code",
      "metadata": {
        "id": "sZtvASVOn3ty",
        "colab": {
          "base_uri": "https://localhost:8080/"
        },
        "outputId": "661015a4-6c93-405f-cc82-e7f7cc4184bc"
      },
      "source": [
        "# Observación de balanceo de clase\n",
        "df_reviews['Rating'].value_counts()"
      ],
      "execution_count": 96,
      "outputs": [
        {
          "output_type": "execute_result",
          "data": {
            "text/plain": [
              "4    12540\n",
              "3     4908\n",
              "2     2823\n",
              "1     1549\n",
              "0      821\n",
              "Name: Rating, dtype: int64"
            ]
          },
          "metadata": {},
          "execution_count": 96
        }
      ]
    },
    {
      "cell_type": "code",
      "source": [
        "# Gráfica de balanceo de clases\n",
        "sns.countplot(x='Rating', data=df_reviews)\n",
        "plt.show()"
      ],
      "metadata": {
        "colab": {
          "base_uri": "https://localhost:8080/",
          "height": 279
        },
        "id": "x2j08KkPKepx",
        "outputId": "3ab4184e-0e77-4d41-a83b-75d38dcb5d06"
      },
      "execution_count": 97,
      "outputs": [
        {
          "output_type": "display_data",
          "data": {
            "text/plain": [
              "<Figure size 432x288 with 1 Axes>"
            ],
            "image/png": "[encoded data removed]"
          },
          "metadata": {
            "needs_background": "light"
          }
        }
      ]
    },
    {
      "cell_type": "markdown",
      "source": [
        "El dataset está claramente desbalanceado. Esto implica que deberá emmplearse algún método de balanceo al momento de realizar el _split_ de datos."
      ],
      "metadata": {
        "id": "cX7usEjQLBC2"
      }
    },
    {
      "cell_type": "code",
      "metadata": {
        "id": "gVJ_RVi4o1h3",
        "colab": {
          "base_uri": "https://localhost:8080/"
        },
        "outputId": "fb52cd3b-5e52-4f30-fa49-18fe7d157f2a"
      },
      "source": [
        "# Columna de las review almacenada en un vector numpy de reviews\n",
        "text_sequences = df_reviews['Review Text'].values\n",
        "text_sequences.shape"
      ],
      "execution_count": 98,
      "outputs": [
        {
          "output_type": "execute_result",
          "data": {
            "text/plain": [
              "(22641,)"
            ]
          },
          "metadata": {},
          "execution_count": 98
        }
      ]
    },
    {
      "cell_type": "code",
      "metadata": {
        "id": "4nT5Un_co65Q",
        "colab": {
          "base_uri": "https://localhost:8080/"
        },
        "outputId": "cc0f2c29-ccaa-4931-a06d-5e78eb4cce8f"
      },
      "source": [
        "# Cantidad de reviews para evaluar\n",
        "len(text_sequences)"
      ],
      "execution_count": 99,
      "outputs": [
        {
          "output_type": "execute_result",
          "data": {
            "text/plain": [
              "22641"
            ]
          },
          "metadata": {},
          "execution_count": 99
        }
      ]
    },
    {
      "cell_type": "code",
      "metadata": {
        "id": "HP5uN9tqpHu_"
      },
      "source": [
        "# Concatenado de todas las reviews para armar el corpus\n",
        "corpus = ' '.join(text_sequences)"
      ],
      "execution_count": 100,
      "outputs": []
    },
    {
      "cell_type": "code",
      "metadata": {
        "id": "FEzmePgdpf74",
        "colab": {
          "base_uri": "https://localhost:8080/"
        },
        "outputId": "36e0e6a1-b703-431d-feae-7f114a527923"
      },
      "source": [
        "# Longitud del corpus\n",
        "len(corpus)"
      ],
      "execution_count": 101,
      "outputs": [
        {
          "output_type": "execute_result",
          "data": {
            "text/plain": [
              "7011643"
            ]
          },
          "metadata": {},
          "execution_count": 101
        }
      ]
    },
    {
      "cell_type": "code",
      "metadata": {
        "id": "MYeJLdDmpvOe"
      },
      "source": [
        "# Utilización de \"text_to_word_sequence\" para separar las palabras en tokens\n",
        "# text_to_word_sequence automaticamente quita los signos de puntuacion y pasa el texto a lowercase\n",
        "from keras.preprocessing.text import text_to_word_sequence\n",
        "tokens = text_to_word_sequence(corpus)"
      ],
      "execution_count": 102,
      "outputs": []
    },
    {
      "cell_type": "code",
      "metadata": {
        "id": "M6L-fnWAp_lA",
        "colab": {
          "base_uri": "https://localhost:8080/"
        },
        "outputId": "c28f34bb-c5d9-4d74-c16e-cac5db1d568a"
      },
      "source": [
        "# Vista de los primeros 20 tokens/palabras\n",
        "tokens[:20]"
      ],
      "execution_count": 103,
      "outputs": [
        {
          "output_type": "execute_result",
          "data": {
            "text/plain": [
              "['absolutely',\n",
              " 'wonderful',\n",
              " 'silky',\n",
              " 'and',\n",
              " 'sexy',\n",
              " 'and',\n",
              " 'comfortable',\n",
              " 'love',\n",
              " 'this',\n",
              " 'dress',\n",
              " \"it's\",\n",
              " 'sooo',\n",
              " 'pretty',\n",
              " 'i',\n",
              " 'happened',\n",
              " 'to',\n",
              " 'find',\n",
              " 'it',\n",
              " 'in',\n",
              " 'a']"
            ]
          },
          "metadata": {},
          "execution_count": 103
        }
      ]
    },
    {
      "cell_type": "code",
      "metadata": {
        "id": "-8QgwwMUqG0d",
        "colab": {
          "base_uri": "https://localhost:8080/"
        },
        "outputId": "588d5140-1e05-4d47-fe0b-811e8488a469"
      },
      "source": [
        "# Cantidad de tokens/palabra\n",
        "len(tokens)"
      ],
      "execution_count": 104,
      "outputs": [
        {
          "output_type": "execute_result",
          "data": {
            "text/plain": [
              "1372203"
            ]
          },
          "metadata": {},
          "execution_count": 104
        }
      ]
    },
    {
      "cell_type": "code",
      "metadata": {
        "id": "TFukNZdOsZ8_"
      },
      "source": [
        "# Tokenizado de las palabras con el Tokenizer de Keras\n",
        "# Definición una máxima cantidad de palabras a utilizar:\n",
        "# num_words --> the maximum number of words to keep, based on word frequency.\n",
        "# Only the most common num_words-1 words will be kept.\n",
        "from keras.preprocessing.text import Tokenizer\n",
        "num_words = 2000\n",
        "vocab_size = num_words\n",
        "tok = Tokenizer(num_words)\n",
        "tok.fit_on_texts(tokens)"
      ],
      "execution_count": 105,
      "outputs": []
    },
    {
      "cell_type": "code",
      "metadata": {
        "id": "JnR1tlqZy94X",
        "colab": {
          "base_uri": "https://localhost:8080/"
        },
        "outputId": "5639efaf-2922-4eca-b5e8-7fe5a1d81ee4"
      },
      "source": [
        "# Obtención del diccionario de palabra (word) a índice\n",
        "# y observación de la cantidad total del vocabulario\n",
        "word_index = tok.word_index\n",
        "len(word_index)"
      ],
      "execution_count": 106,
      "outputs": [
        {
          "output_type": "execute_result",
          "data": {
            "text/plain": [
              "14847"
            ]
          },
          "metadata": {},
          "execution_count": 106
        }
      ]
    },
    {
      "cell_type": "code",
      "metadata": {
        "id": "AvWzzSretQXf"
      },
      "source": [
        "# Converción de las palabras/tokens a números\n",
        "sequences = tok.texts_to_sequences(text_sequences)"
      ],
      "execution_count": 107,
      "outputs": []
    },
    {
      "cell_type": "code",
      "source": [
        "sequences[1][:10]"
      ],
      "metadata": {
        "colab": {
          "base_uri": "https://localhost:8080/"
        },
        "id": "yBh1YQYaTumE",
        "outputId": "23d8a7d1-5211-4fe3-dcb0-5216968721db"
      },
      "execution_count": 108,
      "outputs": [
        {
          "output_type": "execute_result",
          "data": {
            "text/plain": [
              "[21, 7, 18, 33, 1713, 99, 2, 1322, 8, 221]"
            ]
          },
          "metadata": {},
          "execution_count": 108
        }
      ]
    },
    {
      "cell_type": "code",
      "metadata": {
        "id": "za73M5SRtbrP",
        "colab": {
          "base_uri": "https://localhost:8080/"
        },
        "outputId": "11e7c8a8-a39e-4a5f-9353-b5e04a6e93ea"
      },
      "source": [
        "# Oración más larga\n",
        "max(len(s) for s in sequences)"
      ],
      "execution_count": 109,
      "outputs": [
        {
          "output_type": "execute_result",
          "data": {
            "text/plain": [
              "115"
            ]
          },
          "metadata": {},
          "execution_count": 109
        }
      ]
    },
    {
      "cell_type": "code",
      "metadata": {
        "id": "oCkO9Wc9tls1"
      },
      "source": [
        "# Realización del padding de las sentencias al mismo tamaño\n",
        "# tomando de referencia la máxima sentencia\n",
        "from keras.preprocessing.sequence import pad_sequences\n",
        "maxlen = max(len(s) for s in sequences)\n",
        " \n",
        "# Realización de padding para obtener la variable \"X\" (input)\n",
        "X = pad_sequences(sequences, padding='pre', maxlen=maxlen)"
      ],
      "execution_count": 110,
      "outputs": []
    },
    {
      "cell_type": "code",
      "metadata": {
        "id": "kGHHabVdt_aa",
        "colab": {
          "base_uri": "https://localhost:8080/"
        },
        "outputId": "96ea5cb9-cf2a-4815-93ce-b6319395c398"
      },
      "source": [
        "# Observación de las dimensiones de la variable input\n",
        "X.shape"
      ],
      "execution_count": 111,
      "outputs": [
        {
          "output_type": "execute_result",
          "data": {
            "text/plain": [
              "(22641, 115)"
            ]
          },
          "metadata": {},
          "execution_count": 111
        }
      ]
    },
    {
      "cell_type": "code",
      "metadata": {
        "id": "llVM-tzQo9_F"
      },
      "source": [
        "# Se tomar la columna rating y alcemacenarla en una variable \"y\" transformada a oneHotEncoding\n",
        "# Su shape debe ser equivalente la cantidad de rows del corpus y a la cantidad\n",
        "# de clases que se deseen predecir (en este ejemplo son 5)"
      ],
      "execution_count": 112,
      "outputs": []
    },
    {
      "cell_type": "code",
      "metadata": {
        "id": "Rmz9A6n4uK4V"
      },
      "source": [
        "# División de los datos en train y test\n",
        "from sklearn.model_selection import train_test_split\n",
        "from imblearn.over_sampling import SMOTE \n",
        "rng = np.random.RandomState(1)\n",
        "\n",
        "#Separación del set de datos en train y test\n",
        "X_train, X_test, y_train, y_test = train_test_split(X, y, test_size=0.2, random_state=rng, stratify=y, shuffle=True)\n",
        "\n",
        "# Balanceo de los set train empleando imbalanced learning, método \"smote\"\n",
        "sm = SMOTE(random_state=42)\n",
        "X_train_os, y_train_os = sm.fit_resample(X_train, y_train)"
      ],
      "execution_count": 113,
      "outputs": []
    },
    {
      "cell_type": "code",
      "source": [
        "# Verificación de las dimensiones de los set de datos train y test\n",
        "print('Set entrenamiento \"X\" balanceado:', X_train_os.shape)\n",
        "print('Testeo \"X\":',X_test.shape)\n",
        "print('\\n')\n",
        "print('Set entrenamiento \"y\" balanceado:', y_train_os.shape)\n",
        "print('Testeo \"y\":', y_test.shape)\n"
      ],
      "metadata": {
        "colab": {
          "base_uri": "https://localhost:8080/"
        },
        "id": "_DSqKfm5fE4t",
        "outputId": "c57803fa-36c6-4bb4-8e2e-c0324804e7f4"
      },
      "execution_count": 114,
      "outputs": [
        {
          "output_type": "stream",
          "name": "stdout",
          "text": [
            "Set entrenamiento \"X\" balanceado: (50160, 115)\n",
            "Testeo \"X\": (4529, 115)\n",
            "\n",
            "\n",
            "Set entrenamiento \"y\" balanceado: (50160,)\n",
            "Testeo \"y\": (4529,)\n"
          ]
        }
      ]
    },
    {
      "cell_type": "code",
      "source": [
        "# Verificación de balanceo\n",
        "np.bincount(y_train_os)"
      ],
      "metadata": {
        "colab": {
          "base_uri": "https://localhost:8080/"
        },
        "id": "K_mKYh17izgi",
        "outputId": "0a7ac87b-b9c5-422d-cff8-2ebd601e0957"
      },
      "execution_count": 115,
      "outputs": [
        {
          "output_type": "execute_result",
          "data": {
            "text/plain": [
              "array([10032, 10032, 10032, 10032, 10032])"
            ]
          },
          "metadata": {},
          "execution_count": 115
        }
      ]
    },
    {
      "cell_type": "code",
      "source": [
        "# Visualización gráfica de cómo ha quedado el balanceo\n",
        "sns.countplot(x=y_train_os)\n",
        "plt.show()"
      ],
      "metadata": {
        "colab": {
          "base_uri": "https://localhost:8080/",
          "height": 265
        },
        "id": "sK7NIMb0koH4",
        "outputId": "efb0062a-cd3e-471f-8b5d-73a096db9fde"
      },
      "execution_count": 116,
      "outputs": [
        {
          "output_type": "display_data",
          "data": {
            "text/plain": [
              "<Figure size 432x288 with 1 Axes>"
            ],
            "image/png": "[encoded data removed]"
          },
          "metadata": {
            "needs_background": "light"
          }
        }
      ]
    },
    {
      "cell_type": "code",
      "source": [
        "# Transformación de los set \"y\" balanceados a One Hot Encoding\n",
        "y_train_ohe = to_categorical(y_train_os).astype('int')\n",
        "y_test_ohe = to_categorical(y_test).astype('int')"
      ],
      "metadata": {
        "id": "nJeWC7zgliud"
      },
      "execution_count": 122,
      "outputs": []
    },
    {
      "cell_type": "code",
      "source": [
        "# Verificación de las dimensiones de los set \"y\" balanceados y transformados a OHE\n",
        "# Debe expresarse la cantidad de clases = 5\n",
        "print('Set entrenamiento \"y\" balanceado:', y_train_ohe.shape)\n",
        "print('Testeo \"y\":', y_test_ohe.shape)"
      ],
      "metadata": {
        "colab": {
          "base_uri": "https://localhost:8080/"
        },
        "id": "9oonJ76KmtEl",
        "outputId": "ecc9b264-f0ed-49b0-d356-6fa7ad671196"
      },
      "execution_count": 118,
      "outputs": [
        {
          "output_type": "stream",
          "name": "stdout",
          "text": [
            "Set entrenamiento \"y\" balanceado: (50160, 5)\n",
            "Testeo \"y\": (4529, 5)\n"
          ]
        }
      ]
    },
    {
      "cell_type": "code",
      "metadata": {
        "id": "EcDPlhEouQ9E",
        "colab": {
          "base_uri": "https://localhost:8080/"
        },
        "outputId": "f20a2bb3-d467-48f8-9598-71c23cb8559a"
      },
      "source": [
        "# Determinación de la dimensiones de entrada y salida\n",
        "in_shape = X_train.shape[1] # max input sentence len\n",
        "out_shape = y_test_ohe.shape[1] # binary classification\n",
        "print(\"in_shape:\", in_shape, \", out_shape:\", out_shape)"
      ],
      "execution_count": 127,
      "outputs": [
        {
          "output_type": "stream",
          "name": "stdout",
          "text": [
            "in_shape: 115 , out_shape: 5\n"
          ]
        }
      ]
    },
    {
      "cell_type": "markdown",
      "metadata": {
        "id": "NpbQHExL6OTu"
      },
      "source": [
        "### 2 - Entrenar el modelo con Embeddings + LSTM"
      ]
    },
    {
      "cell_type": "code",
      "metadata": {
        "id": "NUkuWBsM6cx3",
        "colab": {
          "base_uri": "https://localhost:8080/"
        },
        "outputId": "1252f1a8-ec95-46cf-ecff-169685a6c7a1"
      },
      "source": [
        "# Entrenamiento de modelo con LSTM entrenando embeddings propios\n",
        "from keras.layers import LSTM\n",
        "from keras.layers import Embedding\n",
        "from keras.layers import Dropout\n",
        "\n",
        "model = Sequential()\n",
        "# input_dim = vocab_size (max n_words)\n",
        "# input_length = setencias con padding a la sequencia más larga\n",
        "# output_dim = 50 --> crear embeddings de tamaño 50\n",
        "model.add(Embedding(input_dim=vocab_size+1, output_dim=50, input_length=in_shape))\n",
        "\n",
        "model.add(LSTM(128, return_sequences=True))\n",
        "model.add(Dropout(0.2))\n",
        "model.add(LSTM(128, return_sequences=True))\n",
        "model.add(Dropout(0.2))\n",
        "model.add(LSTM(64, return_sequences=True))\n",
        "model.add(Dropout(0.2))\n",
        "model.add(LSTM(64)) # La última capa LSTM no lleva return_sequences\n",
        "\n",
        "model.add(Dense(64, activation='relu'))\n",
        "\n",
        "model.add(Dense(units=out_shape, activation='softmax'))\n",
        "\n",
        "model.compile(optimizer=\"adam\",\n",
        "              loss='categorical_crossentropy',\n",
        "              metrics=['accuracy'])\n",
        "\n",
        "model.summary()"
      ],
      "execution_count": 182,
      "outputs": [
        {
          "output_type": "stream",
          "name": "stdout",
          "text": [
            "Model: \"sequential_16\"\n",
            "_________________________________________________________________\n",
            " Layer (type)                Output Shape              Param #   \n",
            "=================================================================\n",
            " embedding_17 (Embedding)    (None, 115, 50)           100050    \n",
            "                                                                 \n",
            " lstm_35 (LSTM)              (None, 115, 128)          91648     \n",
            "                                                                 \n",
            " dropout_23 (Dropout)        (None, 115, 128)          0         \n",
            "                                                                 \n",
            " lstm_36 (LSTM)              (None, 115, 128)          131584    \n",
            "                                                                 \n",
            " dropout_24 (Dropout)        (None, 115, 128)          0         \n",
            "                                                                 \n",
            " lstm_37 (LSTM)              (None, 115, 64)           49408     \n",
            "                                                                 \n",
            " dropout_25 (Dropout)        (None, 115, 64)           0         \n",
            "                                                                 \n",
            " lstm_38 (LSTM)              (None, 64)                33024     \n",
            "                                                                 \n",
            " dense_18 (Dense)            (None, 64)                4160      \n",
            "                                                                 \n",
            " dense_19 (Dense)            (None, 5)                 325       \n",
            "                                                                 \n",
            "=================================================================\n",
            "Total params: 410,199\n",
            "Trainable params: 410,199\n",
            "Non-trainable params: 0\n",
            "_________________________________________________________________\n"
          ]
        }
      ]
    },
    {
      "cell_type": "code",
      "source": [
        "from keras.utils.vis_utils import plot_model\n",
        "plot_model(model, to_file='model_plot.png', show_shapes=True, show_layer_names=True)"
      ],
      "metadata": {
        "colab": {
          "base_uri": "https://localhost:8080/",
          "height": 1000
        },
        "id": "qg0Xlo2M7Je6",
        "outputId": "bdc3eb59-6f12-4d9f-a19d-b112b800f9fe"
      },
      "execution_count": 177,
      "outputs": [
        {
          "output_type": "execute_result",
          "data": {
            "text/plain": [
              "<IPython.core.display.Image object>"
            ],
            "image/png": "[encoded data removed]"
          },
          "metadata": {},
          "execution_count": 177
        }
      ]
    },
    {
      "cell_type": "code",
      "source": [
        "hist = model.fit(X_train_os, y_train_ohe, epochs=70, validation_split=0.2)"
      ],
      "metadata": {
        "colab": {
          "base_uri": "https://localhost:8080/"
        },
        "id": "pLrPzAv17PR7",
        "outputId": "297ba530-a761-426b-b461-88a630f323b0"
      },
      "execution_count": 183,
      "outputs": [
        {
          "output_type": "stream",
          "name": "stdout",
          "text": [
            "Epoch 1/70\n",
            "1254/1254 [==============================] - 40s 26ms/step - loss: 1.1904 - accuracy: 0.4485 - val_loss: 4.1868 - val_accuracy: 0.0020\n",
            "Epoch 2/70\n",
            "1254/1254 [==============================] - 33s 26ms/step - loss: 1.0124 - accuracy: 0.5093 - val_loss: 4.7439 - val_accuracy: 0.0016\n",
            "Epoch 3/70\n",
            "1254/1254 [==============================] - 32s 25ms/step - loss: 0.9701 - accuracy: 0.5276 - val_loss: 4.4628 - val_accuracy: 3.9872e-04\n",
            "Epoch 4/70\n",
            "1254/1254 [==============================] - 32s 26ms/step - loss: 0.9516 - accuracy: 0.5291 - val_loss: 5.1968 - val_accuracy: 0.0028\n",
            "Epoch 5/70\n",
            "1254/1254 [==============================] - 33s 26ms/step - loss: 0.9290 - accuracy: 0.5382 - val_loss: 5.1345 - val_accuracy: 0.0040\n",
            "Epoch 6/70\n",
            "1254/1254 [==============================] - 32s 25ms/step - loss: 0.9140 - accuracy: 0.5476 - val_loss: 4.8627 - val_accuracy: 0.0047\n",
            "Epoch 7/70\n",
            "1254/1254 [==============================] - 32s 26ms/step - loss: 0.9000 - accuracy: 0.5549 - val_loss: 5.3969 - val_accuracy: 0.0036\n",
            "Epoch 8/70\n",
            "1254/1254 [==============================] - 32s 25ms/step - loss: 0.8833 - accuracy: 0.5617 - val_loss: 6.2945 - val_accuracy: 0.0034\n",
            "Epoch 9/70\n",
            "1254/1254 [==============================] - 33s 26ms/step - loss: 0.8680 - accuracy: 0.5780 - val_loss: 5.7281 - val_accuracy: 0.0049\n",
            "Epoch 10/70\n",
            "1254/1254 [==============================] - 32s 25ms/step - loss: 0.8527 - accuracy: 0.5856 - val_loss: 6.1326 - val_accuracy: 0.0043\n",
            "Epoch 11/70\n",
            "1254/1254 [==============================] - 32s 26ms/step - loss: 0.8403 - accuracy: 0.5945 - val_loss: 5.5170 - val_accuracy: 0.0051\n",
            "Epoch 12/70\n",
            "1254/1254 [==============================] - 33s 26ms/step - loss: 0.8186 - accuracy: 0.6088 - val_loss: 5.7686 - val_accuracy: 0.0068\n",
            "Epoch 13/70\n",
            "1254/1254 [==============================] - 32s 25ms/step - loss: 0.8016 - accuracy: 0.6207 - val_loss: 6.0359 - val_accuracy: 0.0049\n",
            "Epoch 14/70\n",
            "1254/1254 [==============================] - 32s 25ms/step - loss: 0.7856 - accuracy: 0.6313 - val_loss: 6.3081 - val_accuracy: 0.0045\n",
            "Epoch 15/70\n",
            "1254/1254 [==============================] - 33s 26ms/step - loss: 0.7681 - accuracy: 0.6448 - val_loss: 6.1043 - val_accuracy: 0.0049\n",
            "Epoch 16/70\n",
            "1254/1254 [==============================] - 32s 25ms/step - loss: 0.7463 - accuracy: 0.6546 - val_loss: 6.2518 - val_accuracy: 0.0092\n",
            "Epoch 17/70\n",
            "1254/1254 [==============================] - 32s 26ms/step - loss: 0.7260 - accuracy: 0.6687 - val_loss: 6.1728 - val_accuracy: 0.0078\n",
            "Epoch 18/70\n",
            "1254/1254 [==============================] - 32s 25ms/step - loss: 0.7015 - accuracy: 0.6805 - val_loss: 6.0974 - val_accuracy: 0.0256\n",
            "Epoch 19/70\n",
            "1254/1254 [==============================] - 33s 26ms/step - loss: 0.6798 - accuracy: 0.6952 - val_loss: 6.2240 - val_accuracy: 0.0152\n",
            "Epoch 20/70\n",
            "1254/1254 [==============================] - 32s 25ms/step - loss: 0.6553 - accuracy: 0.7094 - val_loss: 6.3466 - val_accuracy: 0.0141\n",
            "Epoch 21/70\n",
            "1254/1254 [==============================] - 32s 25ms/step - loss: 0.6314 - accuracy: 0.7225 - val_loss: 6.9711 - val_accuracy: 0.0194\n",
            "Epoch 22/70\n",
            "1254/1254 [==============================] - 33s 26ms/step - loss: 0.6076 - accuracy: 0.7358 - val_loss: 6.5570 - val_accuracy: 0.0224\n",
            "Epoch 23/70\n",
            "1254/1254 [==============================] - 32s 25ms/step - loss: 0.5759 - accuracy: 0.7533 - val_loss: 7.3485 - val_accuracy: 0.0220\n",
            "Epoch 24/70\n",
            "1254/1254 [==============================] - 32s 26ms/step - loss: 0.5491 - accuracy: 0.7650 - val_loss: 6.9192 - val_accuracy: 0.0249\n",
            "Epoch 25/70\n",
            "1254/1254 [==============================] - 32s 25ms/step - loss: 0.5256 - accuracy: 0.7764 - val_loss: 7.2290 - val_accuracy: 0.0379\n",
            "Epoch 26/70\n",
            "1254/1254 [==============================] - 33s 26ms/step - loss: 0.4947 - accuracy: 0.7901 - val_loss: 7.2224 - val_accuracy: 0.0440\n",
            "Epoch 27/70\n",
            "1254/1254 [==============================] - 32s 26ms/step - loss: 0.4747 - accuracy: 0.8018 - val_loss: 7.7536 - val_accuracy: 0.0354\n",
            "Epoch 28/70\n",
            "1254/1254 [==============================] - 32s 25ms/step - loss: 0.4488 - accuracy: 0.8144 - val_loss: 7.6355 - val_accuracy: 0.0634\n",
            "Epoch 29/70\n",
            "1254/1254 [==============================] - 32s 26ms/step - loss: 0.4286 - accuracy: 0.8224 - val_loss: 7.6217 - val_accuracy: 0.0451\n",
            "Epoch 30/70\n",
            "1254/1254 [==============================] - 32s 26ms/step - loss: 0.4006 - accuracy: 0.8353 - val_loss: 7.8033 - val_accuracy: 0.0673\n",
            "Epoch 31/70\n",
            "1254/1254 [==============================] - 33s 26ms/step - loss: 0.3790 - accuracy: 0.8451 - val_loss: 8.0716 - val_accuracy: 0.0700\n",
            "Epoch 32/70\n",
            "1254/1254 [==============================] - 33s 26ms/step - loss: 0.3619 - accuracy: 0.8529 - val_loss: 8.6213 - val_accuracy: 0.0629\n",
            "Epoch 33/70\n",
            "1254/1254 [==============================] - 32s 25ms/step - loss: 0.3497 - accuracy: 0.8582 - val_loss: 8.7066 - val_accuracy: 0.0499\n",
            "Epoch 34/70\n",
            "1254/1254 [==============================] - 32s 26ms/step - loss: 0.3213 - accuracy: 0.8709 - val_loss: 8.2081 - val_accuracy: 0.0699\n",
            "Epoch 35/70\n",
            "1254/1254 [==============================] - 32s 25ms/step - loss: 0.3112 - accuracy: 0.8766 - val_loss: 8.4098 - val_accuracy: 0.0753\n",
            "Epoch 36/70\n",
            "1254/1254 [==============================] - 33s 26ms/step - loss: 0.2988 - accuracy: 0.8821 - val_loss: 8.5103 - val_accuracy: 0.0591\n",
            "Epoch 37/70\n",
            "1254/1254 [==============================] - 32s 26ms/step - loss: 0.2839 - accuracy: 0.8876 - val_loss: 9.0704 - val_accuracy: 0.0603\n",
            "Epoch 38/70\n",
            "1254/1254 [==============================] - 32s 25ms/step - loss: 0.2683 - accuracy: 0.8960 - val_loss: 9.0094 - val_accuracy: 0.0618\n",
            "Epoch 39/70\n",
            "1254/1254 [==============================] - 33s 26ms/step - loss: 0.2501 - accuracy: 0.9035 - val_loss: 9.5729 - val_accuracy: 0.0534\n",
            "Epoch 40/70\n",
            "1254/1254 [==============================] - 32s 26ms/step - loss: 0.2473 - accuracy: 0.9062 - val_loss: 9.5365 - val_accuracy: 0.0599\n",
            "Epoch 41/70\n",
            "1254/1254 [==============================] - 32s 26ms/step - loss: 0.2318 - accuracy: 0.9098 - val_loss: 9.1329 - val_accuracy: 0.0800\n",
            "Epoch 42/70\n",
            "1254/1254 [==============================] - 33s 26ms/step - loss: 0.2214 - accuracy: 0.9156 - val_loss: 9.3801 - val_accuracy: 0.0693\n",
            "Epoch 43/70\n",
            "1254/1254 [==============================] - 32s 26ms/step - loss: 0.2080 - accuracy: 0.9199 - val_loss: 9.6871 - val_accuracy: 0.0589\n",
            "Epoch 44/70\n",
            "1254/1254 [==============================] - 32s 26ms/step - loss: 0.2033 - accuracy: 0.9220 - val_loss: 9.9334 - val_accuracy: 0.0565\n",
            "Epoch 45/70\n",
            "1254/1254 [==============================] - 33s 26ms/step - loss: 0.1926 - accuracy: 0.9273 - val_loss: 9.4496 - val_accuracy: 0.0700\n",
            "Epoch 46/70\n",
            "1254/1254 [==============================] - 32s 25ms/step - loss: 0.1837 - accuracy: 0.9305 - val_loss: 9.3530 - val_accuracy: 0.0710\n",
            "Epoch 47/70\n",
            "1254/1254 [==============================] - 32s 25ms/step - loss: 0.1802 - accuracy: 0.9332 - val_loss: 9.2811 - val_accuracy: 0.0816\n",
            "Epoch 48/70\n",
            "1254/1254 [==============================] - 32s 26ms/step - loss: 0.1747 - accuracy: 0.9368 - val_loss: 9.8302 - val_accuracy: 0.0861\n",
            "Epoch 49/70\n",
            "1254/1254 [==============================] - 33s 26ms/step - loss: 0.1616 - accuracy: 0.9408 - val_loss: 10.1738 - val_accuracy: 0.0528\n",
            "Epoch 50/70\n",
            "1254/1254 [==============================] - 32s 26ms/step - loss: 0.1633 - accuracy: 0.9397 - val_loss: 9.9145 - val_accuracy: 0.0715\n",
            "Epoch 51/70\n",
            "1254/1254 [==============================] - 32s 26ms/step - loss: 0.1493 - accuracy: 0.9446 - val_loss: 10.7605 - val_accuracy: 0.0619\n",
            "Epoch 52/70\n",
            "1254/1254 [==============================] - 33s 26ms/step - loss: 0.1509 - accuracy: 0.9455 - val_loss: 10.1322 - val_accuracy: 0.0636\n",
            "Epoch 53/70\n",
            "1254/1254 [==============================] - 32s 26ms/step - loss: 0.1419 - accuracy: 0.9474 - val_loss: 10.7865 - val_accuracy: 0.0671\n",
            "Epoch 54/70\n",
            "1254/1254 [==============================] - 32s 26ms/step - loss: 0.1416 - accuracy: 0.9472 - val_loss: 10.0365 - val_accuracy: 0.0867\n",
            "Epoch 55/70\n",
            "1254/1254 [==============================] - 33s 26ms/step - loss: 0.1326 - accuracy: 0.9518 - val_loss: 10.3282 - val_accuracy: 0.0626\n",
            "Epoch 56/70\n",
            "1254/1254 [==============================] - 32s 26ms/step - loss: 0.1301 - accuracy: 0.9526 - val_loss: 10.5503 - val_accuracy: 0.0721\n",
            "Epoch 57/70\n",
            "1254/1254 [==============================] - 32s 26ms/step - loss: 0.1213 - accuracy: 0.9552 - val_loss: 10.0959 - val_accuracy: 0.0699\n",
            "Epoch 58/70\n",
            "1254/1254 [==============================] - 33s 26ms/step - loss: 0.1288 - accuracy: 0.9531 - val_loss: 10.5024 - val_accuracy: 0.0706\n",
            "Epoch 59/70\n",
            "1254/1254 [==============================] - 32s 26ms/step - loss: 0.1192 - accuracy: 0.9556 - val_loss: 10.8992 - val_accuracy: 0.0556\n",
            "Epoch 60/70\n",
            "1254/1254 [==============================] - 32s 26ms/step - loss: 0.1238 - accuracy: 0.9559 - val_loss: 10.3845 - val_accuracy: 0.0687\n",
            "Epoch 61/70\n",
            "1254/1254 [==============================] - 32s 26ms/step - loss: 0.1188 - accuracy: 0.9568 - val_loss: 10.7084 - val_accuracy: 0.0679\n",
            "Epoch 62/70\n",
            "1254/1254 [==============================] - 33s 27ms/step - loss: 0.1113 - accuracy: 0.9611 - val_loss: 10.4713 - val_accuracy: 0.0918\n",
            "Epoch 63/70\n",
            "1254/1254 [==============================] - 32s 26ms/step - loss: 0.1121 - accuracy: 0.9602 - val_loss: 10.7325 - val_accuracy: 0.0794\n",
            "Epoch 64/70\n",
            "1254/1254 [==============================] - 32s 26ms/step - loss: 0.1108 - accuracy: 0.9603 - val_loss: 11.8315 - val_accuracy: 0.0593\n",
            "Epoch 65/70\n",
            "1254/1254 [==============================] - 33s 26ms/step - loss: 0.1039 - accuracy: 0.9625 - val_loss: 11.1939 - val_accuracy: 0.0770\n",
            "Epoch 66/70\n",
            "1254/1254 [==============================] - 32s 26ms/step - loss: 0.1055 - accuracy: 0.9630 - val_loss: 10.6326 - val_accuracy: 0.0957\n",
            "Epoch 67/70\n",
            "1254/1254 [==============================] - 34s 27ms/step - loss: 0.1012 - accuracy: 0.9643 - val_loss: 11.7815 - val_accuracy: 0.0616\n",
            "Epoch 68/70\n",
            "1254/1254 [==============================] - 34s 27ms/step - loss: 0.1027 - accuracy: 0.9641 - val_loss: 11.7103 - val_accuracy: 0.0630\n",
            "Epoch 69/70\n",
            "1254/1254 [==============================] - 33s 26ms/step - loss: 0.0982 - accuracy: 0.9653 - val_loss: 11.4538 - val_accuracy: 0.0808\n",
            "Epoch 70/70\n",
            "1254/1254 [==============================] - 33s 26ms/step - loss: 0.0973 - accuracy: 0.9656 - val_loss: 11.1388 - val_accuracy: 0.0777\n"
          ]
        }
      ]
    },
    {
      "cell_type": "code",
      "source": [
        "import matplotlib.pyplot as plt\n",
        "import seaborn as sns\n",
        "epoch_count = range(1, len(hist.history['accuracy']) + 1)\n",
        "sns.lineplot(x=epoch_count,  y=hist.history['accuracy'], label='train')\n",
        "sns.lineplot(x=epoch_count,  y=hist.history['val_accuracy'], label='valid')\n",
        "plt.show()"
      ],
      "metadata": {
        "colab": {
          "base_uri": "https://localhost:8080/",
          "height": 266
        },
        "id": "2KcvBOTd9kZl",
        "outputId": "ec74d231-e8c8-44e1-db14-a045d6818a5f"
      },
      "execution_count": 184,
      "outputs": [
        {
          "output_type": "display_data",
          "data": {
            "text/plain": [
              "<Figure size 432x288 with 1 Axes>"
            ],
            "image/png": "[encoded data removed]"
          },
          "metadata": {
            "needs_background": "light"
          }
        }
      ]
    },
    {
      "cell_type": "markdown",
      "source": [
        "La performance es muy mala si se considera que se entrena el modelo para pasar a una fase de producción. Se produce overfitting."
      ],
      "metadata": {
        "id": "mM0VYisfzf2Z"
      }
    },
    {
      "cell_type": "markdown",
      "source": [
        "### 3 - Entrenar el modelo con Embeddings Fasttext + LSTM\n",
        "Se prueba emplear embeddings Fasttext para ver si mejora el modelo."
      ],
      "metadata": {
        "id": "STKuxLN5-TZE"
      }
    },
    {
      "cell_type": "code",
      "source": [
        "# Descargar los embeddings desde un gogle drive (es la forma más rápida)\n",
        "# NOTA: No hay garantía de que estos links perduren, en caso de que no estén\n",
        "# disponibles descargar de la página oficial como se explica en el siguiente bloque\n",
        "import os\n",
        "import gdown\n",
        "if os.access('fasttext.pkl', os.F_OK) is False:\n",
        "    url = 'https://drive.google.com/uc?id=1KU5qmAYh3LATMvVgocFDfW-PK3prm1WU&export=download'\n",
        "    output = 'fasttext.pkl'\n",
        "    gdown.download(url, output, quiet=False)\n",
        "else:\n",
        "    print(\"Los embeddings fasttext.pkl ya están descargados\")"
      ],
      "metadata": {
        "colab": {
          "base_uri": "https://localhost:8080/"
        },
        "id": "S1vKb92Z-fSg",
        "outputId": "e990e9e0-fd7a-49f0-8c1c-233a55a37cf7"
      },
      "execution_count": 140,
      "outputs": [
        {
          "output_type": "stream",
          "name": "stderr",
          "text": [
            "Downloading...\n",
            "From: https://drive.google.com/uc?id=1KU5qmAYh3LATMvVgocFDfW-PK3prm1WU&export=download\n",
            "To: /content/fasttext.pkl\n",
            "100%|██████████| 2.88G/2.88G [00:47<00:00, 60.3MB/s]\n"
          ]
        }
      ]
    },
    {
      "cell_type": "code",
      "source": [
        "import logging\n",
        "import os\n",
        "from pathlib import Path\n",
        "from io import StringIO\n",
        "import pickle\n",
        "\n",
        "class WordsEmbeddings(object):\n",
        "    logger = logging.getLogger(__name__)\n",
        "\n",
        "    def __init__(self):\n",
        "        # load the embeddings\n",
        "        words_embedding_pkl = Path(self.PKL_PATH)\n",
        "        if not words_embedding_pkl.is_file():\n",
        "            words_embedding_txt = Path(self.WORD_TO_VEC_MODEL_TXT_PATH)\n",
        "            assert words_embedding_txt.is_file(), 'Words embedding not available'\n",
        "            embeddings = self.convert_model_to_pickle()\n",
        "        else:\n",
        "            embeddings = self.load_model_from_pickle()\n",
        "        self.embeddings = embeddings\n",
        "        # build the vocabulary hashmap\n",
        "        index = np.arange(self.embeddings.shape[0])\n",
        "        # Dicctionarios para traducir de embedding a IDX de la palabra\n",
        "        self.word2idx = dict(zip(self.embeddings['word'], index))\n",
        "        self.idx2word = dict(zip(index, self.embeddings['word']))\n",
        "\n",
        "    def get_words_embeddings(self, words):\n",
        "        words_idxs = self.words2idxs(words)\n",
        "        return self.embeddings[words_idxs]['embedding']\n",
        "\n",
        "    def words2idxs(self, words):\n",
        "        return np.array([self.word2idx.get(word, -1) for word in words])\n",
        "\n",
        "    def idxs2words(self, idxs):\n",
        "        return np.array([self.idx2word.get(idx, '-1') for idx in idxs])\n",
        "\n",
        "    def load_model_from_pickle(self):\n",
        "        self.logger.debug(\n",
        "            'loading words embeddings from pickle {}'.format(\n",
        "                self.PKL_PATH\n",
        "            )\n",
        "        )\n",
        "        max_bytes = 2**28 - 1 # 256MB\n",
        "        bytes_in = bytearray(0)\n",
        "        input_size = os.path.getsize(self.PKL_PATH)\n",
        "        with open(self.PKL_PATH, 'rb') as f_in:\n",
        "            for _ in range(0, input_size, max_bytes):\n",
        "                bytes_in += f_in.read(max_bytes)\n",
        "        embeddings = pickle.loads(bytes_in)\n",
        "        self.logger.debug('words embeddings loaded')\n",
        "        return embeddings\n",
        "\n",
        "    def convert_model_to_pickle(self):\n",
        "        # create a numpy strctured array:\n",
        "        # word     embedding\n",
        "        # U50      np.float32[]\n",
        "        # word_1   a, b, c\n",
        "        # word_2   d, e, f\n",
        "        # ...\n",
        "        # word_n   g, h, i\n",
        "        self.logger.debug(\n",
        "            'converting and loading words embeddings from text file {}'.format(\n",
        "                self.WORD_TO_VEC_MODEL_TXT_PATH\n",
        "            )\n",
        "        )\n",
        "        structure = [('word', np.dtype('U' + str(self.WORD_MAX_SIZE))),\n",
        "                     ('embedding', np.float32, (self.N_FEATURES,))]\n",
        "        structure = np.dtype(structure)\n",
        "        # load numpy array from disk using a generator\n",
        "        with open(self.WORD_TO_VEC_MODEL_TXT_PATH, encoding=\"utf8\") as words_embeddings_txt:\n",
        "            embeddings_gen = (\n",
        "                (line.split()[0], line.split()[1:]) for line in words_embeddings_txt\n",
        "                if len(line.split()[1:]) == self.N_FEATURES\n",
        "            )\n",
        "            embeddings = np.fromiter(embeddings_gen, structure)\n",
        "        # add a null embedding\n",
        "        null_embedding = np.array(\n",
        "            [('null_embedding', np.zeros((self.N_FEATURES,), dtype=np.float32))],\n",
        "            dtype=structure\n",
        "        )\n",
        "        embeddings = np.concatenate([embeddings, null_embedding])\n",
        "        # dump numpy array to disk using pickle\n",
        "        max_bytes = 2**28 - 1 # # 256MB\n",
        "        bytes_out = pickle.dumps(embeddings, protocol=pickle.HIGHEST_PROTOCOL)\n",
        "        with open(self.PKL_PATH, 'wb') as f_out:\n",
        "            for idx in range(0, len(bytes_out), max_bytes):\n",
        "                f_out.write(bytes_out[idx:idx+max_bytes])\n",
        "        self.logger.debug('words embeddings loaded')\n",
        "        return embeddings\n",
        "\n",
        "\n",
        "class GloveEmbeddings(WordsEmbeddings):\n",
        "    WORD_TO_VEC_MODEL_TXT_PATH = 'glove.twitter.27B.50d.txt'\n",
        "    PKL_PATH = 'gloveembedding.pkl'\n",
        "    N_FEATURES = 50\n",
        "    WORD_MAX_SIZE = 60\n",
        "\n",
        "\n",
        "class FasttextEmbeddings(WordsEmbeddings):\n",
        "    WORD_TO_VEC_MODEL_TXT_PATH = 'cc.en.300.vec'\n",
        "    PKL_PATH = 'fasttext.pkl'\n",
        "    N_FEATURES = 300\n",
        "    WORD_MAX_SIZE = 60"
      ],
      "metadata": {
        "id": "1VZtbga4-7vt"
      },
      "execution_count": 161,
      "outputs": []
    },
    {
      "cell_type": "code",
      "source": [
        "model_fasttext = FasttextEmbeddings()"
      ],
      "metadata": {
        "id": "ofKeuVr2-9HP"
      },
      "execution_count": 162,
      "outputs": []
    },
    {
      "cell_type": "code",
      "source": [
        "# Crear la Embedding matrix\n",
        "\n",
        "print('preparing embedding matrix...')\n",
        "embed_dim = 300 # fasttext\n",
        "words_not_found = []\n",
        "\n",
        "# word_index provieen del tokenizer\n",
        "\n",
        "nb_words = min(num_words, len(word_index)) # vocab_size\n",
        "embedding_matrix = np.zeros((nb_words, embed_dim))\n",
        "for word, i in word_index.items():\n",
        "    if i >= nb_words:\n",
        "        continue\n",
        "    embedding_vector = model_fasttext.get_words_embeddings(word)[0]\n",
        "    if (embedding_vector is not None) and len(embedding_vector) > 0:\n",
        "        embedding_matrix[i] = embedding_vector\n",
        "    else:\n",
        "        # words not found in embedding index will be all-zeros.\n",
        "        words_not_found.append(word)\n",
        "        print(word)\n",
        "\n",
        "print('number of null word embeddings:', np.sum(np.sum(embedding_matrix, axis=1) == 0))"
      ],
      "metadata": {
        "colab": {
          "base_uri": "https://localhost:8080/"
        },
        "id": "l3Y_2dm8-_re",
        "outputId": "ce729faa-6a34-4a67-8ad0-9c883fb344ea"
      },
      "execution_count": 163,
      "outputs": [
        {
          "output_type": "stream",
          "name": "stdout",
          "text": [
            "preparing embedding matrix...\n",
            "number of null word embeddings: 2\n"
          ]
        }
      ]
    },
    {
      "cell_type": "code",
      "source": [
        "Embedding(input_dim=vocab_size,  # definido en el Tokenizador\n",
        "          output_dim=embed_dim,  # dimensión de los embeddings utilizados\n",
        "          input_length=in_shape, # máxima sentencia de entrada\n",
        "          weights=[embedding_matrix],  # matrix de embeddings\n",
        "          trainable=False)       # marcar como layer no entrenable"
      ],
      "metadata": {
        "colab": {
          "base_uri": "https://localhost:8080/"
        },
        "id": "6DuLDOQj_Ih0",
        "outputId": "46984973-12f5-4b66-de1f-d0634106f40a"
      },
      "execution_count": 164,
      "outputs": [
        {
          "output_type": "execute_result",
          "data": {
            "text/plain": [
              "<keras.layers.embeddings.Embedding at 0x7f641133a410>"
            ]
          },
          "metadata": {},
          "execution_count": 164
        }
      ]
    },
    {
      "cell_type": "code",
      "source": [
        "model2 = Sequential()\n",
        "# input_dim = vocab_size (max n_words)\n",
        "# input_length = setencias con padding a 200\n",
        "# output_dim = embed_dim (depende que embeddings pre entrenados utilizamos)\n",
        "model2.add(Embedding(input_dim=vocab_size, output_dim=embed_dim, input_length=in_shape,\n",
        "                     weights=[embedding_matrix], trainable=False))\n",
        "\n",
        "model2.add(LSTM(units=128, return_sequences=True))\n",
        "model2.add(Dropout(0.2))\n",
        "model2.add(LSTM(units=128, return_sequences=True))\n",
        "model2.add(Dropout(0.2))\n",
        "model2.add(LSTM(units=64, return_sequences=True))\n",
        "model2.add(Dropout(0.2))\n",
        "model2.add(LSTM(units=64)) # La última capa LSTM no lleva return_sequences\n",
        "\n",
        "model.add(Dense(64, activation='relu'))\n",
        "\n",
        "model2.add(Dense(units=out_shape, activation='softmax'))\n",
        "\n",
        "model2.compile(optimizer=\"adam\",\n",
        "              loss='categorical_crossentropy',\n",
        "              metrics=['accuracy'])\n",
        "\n",
        "model2.summary()"
      ],
      "metadata": {
        "colab": {
          "base_uri": "https://localhost:8080/"
        },
        "id": "DmR_dHSw_ZSw",
        "outputId": "8d3328b6-c4eb-421c-f4a2-5e4cb8b61105"
      },
      "execution_count": 178,
      "outputs": [
        {
          "output_type": "stream",
          "name": "stdout",
          "text": [
            "Model: \"sequential_15\"\n",
            "_________________________________________________________________\n",
            " Layer (type)                Output Shape              Param #   \n",
            "=================================================================\n",
            " embedding_16 (Embedding)    (None, 115, 300)          600000    \n",
            "                                                                 \n",
            " lstm_31 (LSTM)              (None, 115, 128)          219648    \n",
            "                                                                 \n",
            " dropout_20 (Dropout)        (None, 115, 128)          0         \n",
            "                                                                 \n",
            " lstm_32 (LSTM)              (None, 115, 128)          131584    \n",
            "                                                                 \n",
            " dropout_21 (Dropout)        (None, 115, 128)          0         \n",
            "                                                                 \n",
            " lstm_33 (LSTM)              (None, 115, 64)           49408     \n",
            "                                                                 \n",
            " dropout_22 (Dropout)        (None, 115, 64)           0         \n",
            "                                                                 \n",
            " lstm_34 (LSTM)              (None, 64)                33024     \n",
            "                                                                 \n",
            " dense_17 (Dense)            (None, 5)                 325       \n",
            "                                                                 \n",
            "=================================================================\n",
            "Total params: 1,033,989\n",
            "Trainable params: 433,989\n",
            "Non-trainable params: 600,000\n",
            "_________________________________________________________________\n"
          ]
        }
      ]
    },
    {
      "cell_type": "code",
      "source": [
        "hist2 = model2.fit(X_train_os, y_train_ohe, epochs=50, validation_split=0.2)"
      ],
      "metadata": {
        "colab": {
          "base_uri": "https://localhost:8080/"
        },
        "id": "SVKGMJtt_nf8",
        "outputId": "e4618cc1-3f41-4c18-fb24-1d6d4cc6f59b"
      },
      "execution_count": 179,
      "outputs": [
        {
          "output_type": "stream",
          "name": "stdout",
          "text": [
            "Epoch 1/50\n",
            "1254/1254 [==============================] - 39s 27ms/step - loss: 1.4000 - accuracy: 0.3745 - val_loss: 3.5192 - val_accuracy: 0.0000e+00\n",
            "Epoch 2/50\n",
            "1254/1254 [==============================] - 32s 25ms/step - loss: 1.2159 - accuracy: 0.4447 - val_loss: 3.9576 - val_accuracy: 1.9936e-04\n",
            "Epoch 3/50\n",
            "1254/1254 [==============================] - 32s 26ms/step - loss: 1.1805 - accuracy: 0.4532 - val_loss: 4.2572 - val_accuracy: 3.9872e-04\n",
            "Epoch 4/50\n",
            "1254/1254 [==============================] - 32s 25ms/step - loss: 1.1514 - accuracy: 0.4661 - val_loss: 4.4171 - val_accuracy: 0.0015\n",
            "Epoch 5/50\n",
            "1254/1254 [==============================] - 33s 26ms/step - loss: 1.1288 - accuracy: 0.4738 - val_loss: 4.8822 - val_accuracy: 0.0020\n",
            "Epoch 6/50\n",
            "1254/1254 [==============================] - 32s 26ms/step - loss: 1.1046 - accuracy: 0.4831 - val_loss: 5.0014 - val_accuracy: 0.0056\n",
            "Epoch 7/50\n",
            "1254/1254 [==============================] - 32s 26ms/step - loss: 1.0838 - accuracy: 0.4908 - val_loss: 4.7703 - val_accuracy: 0.0029\n",
            "Epoch 8/50\n",
            "1254/1254 [==============================] - 33s 26ms/step - loss: 1.0636 - accuracy: 0.4998 - val_loss: 4.8433 - val_accuracy: 0.0061\n",
            "Epoch 9/50\n",
            "1254/1254 [==============================] - 32s 25ms/step - loss: 1.0424 - accuracy: 0.5053 - val_loss: 5.1788 - val_accuracy: 0.0042\n",
            "Epoch 10/50\n",
            "1254/1254 [==============================] - 32s 26ms/step - loss: 1.0202 - accuracy: 0.5186 - val_loss: 5.3004 - val_accuracy: 0.0039\n",
            "Epoch 11/50\n",
            "1254/1254 [==============================] - 32s 25ms/step - loss: 0.9998 - accuracy: 0.5238 - val_loss: 5.5802 - val_accuracy: 0.0089\n",
            "Epoch 12/50\n",
            "1254/1254 [==============================] - 33s 26ms/step - loss: 0.9757 - accuracy: 0.5362 - val_loss: 5.4704 - val_accuracy: 0.0052\n",
            "Epoch 13/50\n",
            "1254/1254 [==============================] - 32s 26ms/step - loss: 0.9544 - accuracy: 0.5470 - val_loss: 5.5319 - val_accuracy: 0.0124\n",
            "Epoch 14/50\n",
            "1254/1254 [==============================] - 32s 26ms/step - loss: 0.9343 - accuracy: 0.5572 - val_loss: 5.6821 - val_accuracy: 0.0088\n",
            "Epoch 15/50\n",
            "1254/1254 [==============================] - 33s 26ms/step - loss: 0.9102 - accuracy: 0.5670 - val_loss: 5.9953 - val_accuracy: 0.0102\n",
            "Epoch 16/50\n",
            "1254/1254 [==============================] - 32s 25ms/step - loss: 0.8887 - accuracy: 0.5803 - val_loss: 5.8956 - val_accuracy: 0.0158\n",
            "Epoch 17/50\n",
            "1254/1254 [==============================] - 32s 26ms/step - loss: 0.8669 - accuracy: 0.5935 - val_loss: 6.0133 - val_accuracy: 0.0137\n",
            "Epoch 18/50\n",
            "1254/1254 [==============================] - 32s 26ms/step - loss: 0.8450 - accuracy: 0.6034 - val_loss: 6.1376 - val_accuracy: 0.0144\n",
            "Epoch 19/50\n",
            "1254/1254 [==============================] - 33s 26ms/step - loss: 0.8209 - accuracy: 0.6167 - val_loss: 6.1740 - val_accuracy: 0.0246\n",
            "Epoch 20/50\n",
            "1254/1254 [==============================] - 32s 26ms/step - loss: 0.8001 - accuracy: 0.6292 - val_loss: 6.1355 - val_accuracy: 0.0293\n",
            "Epoch 21/50\n",
            "1254/1254 [==============================] - 32s 26ms/step - loss: 0.7836 - accuracy: 0.6365 - val_loss: 6.2728 - val_accuracy: 0.0289\n",
            "Epoch 22/50\n",
            "1254/1254 [==============================] - 33s 26ms/step - loss: 0.7594 - accuracy: 0.6512 - val_loss: 6.3957 - val_accuracy: 0.0191\n",
            "Epoch 23/50\n",
            "1254/1254 [==============================] - 32s 26ms/step - loss: 0.7405 - accuracy: 0.6594 - val_loss: 6.2557 - val_accuracy: 0.0291\n",
            "Epoch 24/50\n",
            "1254/1254 [==============================] - 32s 26ms/step - loss: 0.7235 - accuracy: 0.6678 - val_loss: 6.6545 - val_accuracy: 0.0313\n",
            "Epoch 25/50\n",
            "1254/1254 [==============================] - 32s 26ms/step - loss: 0.7058 - accuracy: 0.6759 - val_loss: 6.7238 - val_accuracy: 0.0344\n",
            "Epoch 26/50\n",
            "1254/1254 [==============================] - 33s 26ms/step - loss: 0.6881 - accuracy: 0.6861 - val_loss: 6.6041 - val_accuracy: 0.0235\n",
            "Epoch 27/50\n",
            "1254/1254 [==============================] - 32s 26ms/step - loss: 0.6725 - accuracy: 0.6952 - val_loss: 6.7127 - val_accuracy: 0.0335\n",
            "Epoch 28/50\n",
            "1254/1254 [==============================] - 32s 26ms/step - loss: 0.6518 - accuracy: 0.7071 - val_loss: 6.7963 - val_accuracy: 0.0584\n",
            "Epoch 29/50\n",
            "1254/1254 [==============================] - 33s 26ms/step - loss: 0.6399 - accuracy: 0.7116 - val_loss: 6.8322 - val_accuracy: 0.0741\n",
            "Epoch 30/50\n",
            "1254/1254 [==============================] - 32s 26ms/step - loss: 0.6300 - accuracy: 0.7192 - val_loss: 7.1095 - val_accuracy: 0.0365\n",
            "Epoch 31/50\n",
            "1254/1254 [==============================] - 32s 25ms/step - loss: 0.6122 - accuracy: 0.7278 - val_loss: 7.0295 - val_accuracy: 0.0593\n",
            "Epoch 32/50\n",
            "1254/1254 [==============================] - 32s 25ms/step - loss: 0.5955 - accuracy: 0.7354 - val_loss: 7.1884 - val_accuracy: 0.0367\n",
            "Epoch 33/50\n",
            "1254/1254 [==============================] - 32s 26ms/step - loss: 0.5833 - accuracy: 0.7424 - val_loss: 7.4660 - val_accuracy: 0.0530\n",
            "Epoch 34/50\n",
            "1254/1254 [==============================] - 32s 25ms/step - loss: 0.5772 - accuracy: 0.7448 - val_loss: 7.3684 - val_accuracy: 0.0442\n",
            "Epoch 35/50\n",
            "1254/1254 [==============================] - 32s 26ms/step - loss: 0.5615 - accuracy: 0.7533 - val_loss: 7.6858 - val_accuracy: 0.0364\n",
            "Epoch 36/50\n",
            "1254/1254 [==============================] - 33s 26ms/step - loss: 0.5492 - accuracy: 0.7617 - val_loss: 7.4574 - val_accuracy: 0.0421\n",
            "Epoch 37/50\n",
            "1254/1254 [==============================] - 32s 25ms/step - loss: 0.5414 - accuracy: 0.7634 - val_loss: 7.5180 - val_accuracy: 0.0554\n",
            "Epoch 38/50\n",
            "1254/1254 [==============================] - 32s 25ms/step - loss: 0.5288 - accuracy: 0.7716 - val_loss: 7.7858 - val_accuracy: 0.0339\n",
            "Epoch 39/50\n",
            "1254/1254 [==============================] - 32s 25ms/step - loss: 0.5187 - accuracy: 0.7755 - val_loss: 7.7419 - val_accuracy: 0.0511\n",
            "Epoch 40/50\n",
            "1254/1254 [==============================] - 32s 26ms/step - loss: 0.5035 - accuracy: 0.7844 - val_loss: 7.5473 - val_accuracy: 0.0585\n",
            "Epoch 41/50\n",
            "1254/1254 [==============================] - 32s 25ms/step - loss: 0.5000 - accuracy: 0.7862 - val_loss: 7.5744 - val_accuracy: 0.0551\n",
            "Epoch 42/50\n",
            "1254/1254 [==============================] - 32s 25ms/step - loss: 0.4926 - accuracy: 0.7867 - val_loss: 7.7434 - val_accuracy: 0.0866\n",
            "Epoch 43/50\n",
            "1254/1254 [==============================] - 33s 26ms/step - loss: 0.4818 - accuracy: 0.7949 - val_loss: 7.6854 - val_accuracy: 0.0735\n",
            "Epoch 44/50\n",
            "1254/1254 [==============================] - 32s 25ms/step - loss: 0.4764 - accuracy: 0.7975 - val_loss: 7.7462 - val_accuracy: 0.0649\n",
            "Epoch 45/50\n",
            "1254/1254 [==============================] - 32s 25ms/step - loss: 0.4702 - accuracy: 0.8012 - val_loss: 7.6672 - val_accuracy: 0.0801\n",
            "Epoch 46/50\n",
            "1254/1254 [==============================] - 32s 26ms/step - loss: 0.4576 - accuracy: 0.8055 - val_loss: 8.0802 - val_accuracy: 0.0417\n",
            "Epoch 47/50\n",
            "1254/1254 [==============================] - 32s 25ms/step - loss: 0.4539 - accuracy: 0.8098 - val_loss: 8.2107 - val_accuracy: 0.0429\n",
            "Epoch 48/50\n",
            "1254/1254 [==============================] - 31s 25ms/step - loss: 0.4433 - accuracy: 0.8137 - val_loss: 8.2742 - val_accuracy: 0.0606\n",
            "Epoch 49/50\n",
            "1254/1254 [==============================] - 31s 25ms/step - loss: 0.4428 - accuracy: 0.8148 - val_loss: 8.1199 - val_accuracy: 0.0671\n",
            "Epoch 50/50\n",
            "1254/1254 [==============================] - 33s 27ms/step - loss: 0.4365 - accuracy: 0.8183 - val_loss: 7.8800 - val_accuracy: 0.0700\n"
          ]
        }
      ]
    },
    {
      "cell_type": "code",
      "source": [
        "import matplotlib.pyplot as plt\n",
        "import seaborn as sns\n",
        "epoch_count = range(1, len(hist2.history['accuracy']) + 1)\n",
        "sns.lineplot(x=epoch_count,  y=hist2.history['accuracy'], label='train')\n",
        "sns.lineplot(x=epoch_count,  y=hist2.history['val_accuracy'], label='valid')\n",
        "plt.show()"
      ],
      "metadata": {
        "colab": {
          "base_uri": "https://localhost:8080/",
          "height": 265
        },
        "id": "cFzey2Z7AU7j",
        "outputId": "42ab6b20-acb2-40f8-9b52-69c3eb045165"
      },
      "execution_count": 180,
      "outputs": [
        {
          "output_type": "display_data",
          "data": {
            "text/plain": [
              "<Figure size 432x288 with 1 Axes>"
            ],
            "image/png": "[encoded data removed]"
          },
          "metadata": {
            "needs_background": "light"
          }
        }
      ]
    },
    {
      "cell_type": "markdown",
      "source": [
        "### Conclusiones\n",
        "Hasta donde se pudo evaluar, ambos modelos no fueron buenos. Al incrementar la cantidad de épocas, empezó a mostrar variaciones la validación del entrenamiento, con una apenas perceptible mejor performance para el caso de Fasttext. Pero claramente estos modelos así como están configurados no son buenos. "
      ],
      "metadata": {
        "id": "RkhyEp9fz4gy"
      }
    }
  ]
}