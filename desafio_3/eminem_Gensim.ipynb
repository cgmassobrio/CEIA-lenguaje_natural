{
  "nbformat": 4,
  "nbformat_minor": 0,
  "metadata": {
    "colab": {
      "name": "eminem - Gensim.ipynb",
      "provenance": [],
      "collapsed_sections": [],
      "toc_visible": true
    },
    "kernelspec": {
      "name": "python3",
      "display_name": "Python 3"
    }
  },
  "cells": [
    {
      "cell_type": "markdown",
      "metadata": {
        "id": "sZd5yLnnHOK0"
      },
      "source": [
        "<img src=\"https://github.com/hernancontigiani/ceia_memorias_especializacion/raw/master/Figures/logoFIUBA.jpg\" width=\"500\" align=\"center\">\n",
        "\n",
        "\n",
        "# Procesamiento de lenguaje natural\n",
        "## Custom embedddings con el cancionero de _Eminem_\n",
        "\n",
        "A partir del ejercicio visto en clase, se puso a prueba la creación de embeddings de palabras basados en contexto. Su generación se realiza a través de la librería Gensim. \n",
        "Las pruebas consisten en ensayar para una misma palabra, cuáles del cancionero son cercanas (más relacionadas) y cuales son lejanas (menos relacionadas). Pueden ocurrir dos situaciones en función de los resultados:\n",
        "- Palabras lejanas o cercanas por su significado.\n",
        "- Si el contexto de la manera en qué están escritas las canciones influye sobre la condición dada por el significado que poseen las palabras. \n",
        "\n",
        "Hay que tener en cuenta que las letras de Eminem tienen una alta carga de giros idiomáticos y dialéctos propios del género del rap.\n",
        "\n"
      ]
    },
    {
      "cell_type": "code",
      "metadata": {
        "id": "lFToQs5FK5uZ"
      },
      "source": [
        "import pandas as pd\n",
        "import matplotlib.pyplot as plt\n",
        "import seaborn as sns\n",
        "\n",
        "import multiprocessing\n",
        "from gensim.models import Word2Vec"
      ],
      "execution_count": 1,
      "outputs": []
    },
    {
      "cell_type": "markdown",
      "metadata": {
        "id": "g07zJxG7H9vG"
      },
      "source": [
        "### Datos\n",
        "Descarga del dataset."
      ]
    },
    {
      "cell_type": "code",
      "metadata": {
        "id": "l7z4CSBfpR3X",
        "colab": {
          "base_uri": "https://localhost:8080/"
        },
        "outputId": "82ba58f3-3395-4ffb-93a5-6c69202c715c"
      },
      "source": [
        "# Descargar la carpeta de dataset\n",
        "import os\n",
        "import platform\n",
        "if os.access('./songs_dataset', os.F_OK) is False:\n",
        "    if os.access('songs_dataset.zip', os.F_OK) is False:\n",
        "        if platform.system() == 'Windows':\n",
        "            !curl https://raw.githubusercontent.com/FIUBA-Posgrado-Inteligencia-Artificial/procesamiento_lenguaje_natural/main/datasets/songs_dataset.zip -o songs_dataset.zip\n",
        "        else:\n",
        "            !wget songs_dataset.zip https://github.com/FIUBA-Posgrado-Inteligencia-Artificial/procesamiento_lenguaje_natural/raw/main/datasets/songs_dataset.zip\n",
        "    !unzip -q songs_dataset.zip   \n",
        "else:\n",
        "    print(\"El dataset ya se encuentra descargado\")"
      ],
      "execution_count": 2,
      "outputs": [
        {
          "output_type": "stream",
          "name": "stdout",
          "text": [
            "--2022-07-28 18:31:54--  http://songs_dataset.zip/\n",
            "Resolving songs_dataset.zip (songs_dataset.zip)... failed: Name or service not known.\n",
            "wget: unable to resolve host address ‘songs_dataset.zip’\n",
            "--2022-07-28 18:31:54--  https://github.com/FIUBA-Posgrado-Inteligencia-Artificial/procesamiento_lenguaje_natural/raw/main/datasets/songs_dataset.zip\n",
            "Resolving github.com (github.com)... 140.82.113.3\n",
            "Connecting to github.com (github.com)|140.82.113.3|:443... connected.\n",
            "HTTP request sent, awaiting response... 302 Found\n",
            "Location: https://raw.githubusercontent.com/FIUBA-Posgrado-Inteligencia-Artificial/procesamiento_lenguaje_natural/main/datasets/songs_dataset.zip [following]\n",
            "--2022-07-28 18:31:54--  https://raw.githubusercontent.com/FIUBA-Posgrado-Inteligencia-Artificial/procesamiento_lenguaje_natural/main/datasets/songs_dataset.zip\n",
            "Resolving raw.githubusercontent.com (raw.githubusercontent.com)... 185.199.109.133, 185.199.111.133, 185.199.108.133, ...\n",
            "Connecting to raw.githubusercontent.com (raw.githubusercontent.com)|185.199.109.133|:443... connected.\n",
            "HTTP request sent, awaiting response... 200 OK\n",
            "Length: 2075036 (2.0M) [application/zip]\n",
            "Saving to: ‘songs_dataset.zip’\n",
            "\n",
            "songs_dataset.zip   100%[===================>]   1.98M  --.-KB/s    in 0.01s   \n",
            "\n",
            "2022-07-28 18:31:54 (156 MB/s) - ‘songs_dataset.zip’ saved [2075036/2075036]\n",
            "\n",
            "FINISHED --2022-07-28 18:31:54--\n",
            "Total wall clock time: 0.5s\n",
            "Downloaded: 1 files, 2.0M in 0.01s (156 MB/s)\n"
          ]
        }
      ]
    },
    {
      "cell_type": "code",
      "metadata": {
        "id": "ticoqYD1Z3I7",
        "colab": {
          "base_uri": "https://localhost:8080/",
          "height": 283
        },
        "outputId": "d769c743-64fe-4302-e412-05794447570e"
      },
      "source": [
        "# Armar el dataset utilizando salto de línea para separar las oraciones/docs\n",
        "df = pd.read_csv('songs_dataset/eminem.txt', sep='/n', header=None)\n",
        "df.head()"
      ],
      "execution_count": 6,
      "outputs": [
        {
          "output_type": "stream",
          "name": "stderr",
          "text": [
            "/usr/local/lib/python3.7/dist-packages/pandas/util/_decorators.py:311: ParserWarning: Falling back to the 'python' engine because the 'c' engine does not support regex separators (separators > 1 char and different from '\\s+' are interpreted as regex); you can avoid this warning by specifying engine='python'.\n",
            "  return func(*args, **kwargs)\n"
          ]
        },
        {
          "output_type": "execute_result",
          "data": {
            "text/plain": [
              "                                                   0\n",
              "0  Look, I was gonna go easy on you and not to hu...\n",
              "1          But I'm only going to get this one chance\n",
              "2  Something's wrong, I can feel it (Six minutes,...\n",
              "3  Just a feeling I've got, like something's abou...\n",
              "4  If that means, what I think it means, we're in..."
            ],
            "text/html": [
              "\n",
              "  <div id=\"df-bb31d261-410c-40e2-9198-2a88f2a86bec\">\n",
              "    <div class=\"colab-df-container\">\n",
              "      <div>\n",
              "<style scoped>\n",
              "    .dataframe tbody tr th:only-of-type {\n",
              "        vertical-align: middle;\n",
              "    }\n",
              "\n",
              "    .dataframe tbody tr th {\n",
              "        vertical-align: top;\n",
              "    }\n",
              "\n",
              "    .dataframe thead th {\n",
              "        text-align: right;\n",
              "    }\n",
              "</style>\n",
              "<table border=\"1\" class=\"dataframe\">\n",
              "  <thead>\n",
              "    <tr style=\"text-align: right;\">\n",
              "      <th></th>\n",
              "      <th>0</th>\n",
              "    </tr>\n",
              "  </thead>\n",
              "  <tbody>\n",
              "    <tr>\n",
              "      <th>0</th>\n",
              "      <td>Look, I was gonna go easy on you and not to hu...</td>\n",
              "    </tr>\n",
              "    <tr>\n",
              "      <th>1</th>\n",
              "      <td>But I'm only going to get this one chance</td>\n",
              "    </tr>\n",
              "    <tr>\n",
              "      <th>2</th>\n",
              "      <td>Something's wrong, I can feel it (Six minutes,...</td>\n",
              "    </tr>\n",
              "    <tr>\n",
              "      <th>3</th>\n",
              "      <td>Just a feeling I've got, like something's abou...</td>\n",
              "    </tr>\n",
              "    <tr>\n",
              "      <th>4</th>\n",
              "      <td>If that means, what I think it means, we're in...</td>\n",
              "    </tr>\n",
              "  </tbody>\n",
              "</table>\n",
              "</div>\n",
              "      <button class=\"colab-df-convert\" onclick=\"convertToInteractive('df-bb31d261-410c-40e2-9198-2a88f2a86bec')\"\n",
              "              title=\"Convert this dataframe to an interactive table.\"\n",
              "              style=\"display:none;\">\n",
              "        \n",
              "  <svg xmlns=\"http://www.w3.org/2000/svg\" height=\"24px\"viewBox=\"0 0 24 24\"\n",
              "       width=\"24px\">\n",
              "    <path d=\"M0 0h24v24H0V0z\" fill=\"none\"/>\n",
              "    <path d=\"M18.56 5.44l.94 2.06.94-2.06 2.06-.94-2.06-.94-.94-2.06-.94 2.06-2.06.94zm-11 1L8.5 8.5l.94-2.06 2.06-.94-2.06-.94L8.5 2.5l-.94 2.06-2.06.94zm10 10l.94 2.06.94-2.06 2.06-.94-2.06-.94-.94-2.06-.94 2.06-2.06.94z\"/><path d=\"M17.41 7.96l-1.37-1.37c-.4-.4-.92-.59-1.43-.59-.52 0-1.04.2-1.43.59L10.3 9.45l-7.72 7.72c-.78.78-.78 2.05 0 2.83L4 21.41c.39.39.9.59 1.41.59.51 0 1.02-.2 1.41-.59l7.78-7.78 2.81-2.81c.8-.78.8-2.07 0-2.86zM5.41 20L4 18.59l7.72-7.72 1.47 1.35L5.41 20z\"/>\n",
              "  </svg>\n",
              "      </button>\n",
              "      \n",
              "  <style>\n",
              "    .colab-df-container {\n",
              "      display:flex;\n",
              "      flex-wrap:wrap;\n",
              "      gap: 12px;\n",
              "    }\n",
              "\n",
              "    .colab-df-convert {\n",
              "      background-color: #E8F0FE;\n",
              "      border: none;\n",
              "      border-radius: 50%;\n",
              "      cursor: pointer;\n",
              "      display: none;\n",
              "      fill: #1967D2;\n",
              "      height: 32px;\n",
              "      padding: 0 0 0 0;\n",
              "      width: 32px;\n",
              "    }\n",
              "\n",
              "    .colab-df-convert:hover {\n",
              "      background-color: #E2EBFA;\n",
              "      box-shadow: 0px 1px 2px rgba(60, 64, 67, 0.3), 0px 1px 3px 1px rgba(60, 64, 67, 0.15);\n",
              "      fill: #174EA6;\n",
              "    }\n",
              "\n",
              "    [theme=dark] .colab-df-convert {\n",
              "      background-color: #3B4455;\n",
              "      fill: #D2E3FC;\n",
              "    }\n",
              "\n",
              "    [theme=dark] .colab-df-convert:hover {\n",
              "      background-color: #434B5C;\n",
              "      box-shadow: 0px 1px 3px 1px rgba(0, 0, 0, 0.15);\n",
              "      filter: drop-shadow(0px 1px 2px rgba(0, 0, 0, 0.3));\n",
              "      fill: #FFFFFF;\n",
              "    }\n",
              "  </style>\n",
              "\n",
              "      <script>\n",
              "        const buttonEl =\n",
              "          document.querySelector('#df-bb31d261-410c-40e2-9198-2a88f2a86bec button.colab-df-convert');\n",
              "        buttonEl.style.display =\n",
              "          google.colab.kernel.accessAllowed ? 'block' : 'none';\n",
              "\n",
              "        async function convertToInteractive(key) {\n",
              "          const element = document.querySelector('#df-bb31d261-410c-40e2-9198-2a88f2a86bec');\n",
              "          const dataTable =\n",
              "            await google.colab.kernel.invokeFunction('convertToInteractive',\n",
              "                                                     [key], {});\n",
              "          if (!dataTable) return;\n",
              "\n",
              "          const docLinkHtml = 'Like what you see? Visit the ' +\n",
              "            '<a target=\"_blank\" href=https://colab.research.google.com/notebooks/data_table.ipynb>data table notebook</a>'\n",
              "            + ' to learn more about interactive tables.';\n",
              "          element.innerHTML = '';\n",
              "          dataTable['output_type'] = 'display_data';\n",
              "          await google.colab.output.renderOutput(dataTable, element);\n",
              "          const docLink = document.createElement('div');\n",
              "          docLink.innerHTML = docLinkHtml;\n",
              "          element.appendChild(docLink);\n",
              "        }\n",
              "      </script>\n",
              "    </div>\n",
              "  </div>\n",
              "  "
            ]
          },
          "metadata": {},
          "execution_count": 6
        }
      ]
    },
    {
      "cell_type": "code",
      "metadata": {
        "id": "LEpKubK9XzXN",
        "colab": {
          "base_uri": "https://localhost:8080/"
        },
        "outputId": "b1efdc0b-17da-4893-be9b-fa5a6ecfa552"
      },
      "source": [
        "print(\"Cantidad de documentos:\", df.shape[0])"
      ],
      "execution_count": 5,
      "outputs": [
        {
          "output_type": "stream",
          "name": "stdout",
          "text": [
            "Cantidad de documentos: 6812\n"
          ]
        }
      ]
    },
    {
      "cell_type": "markdown",
      "metadata": {
        "id": "ab94qaFlrA1G"
      },
      "source": [
        "### 1 - Preprocesamiento"
      ]
    },
    {
      "cell_type": "code",
      "metadata": {
        "id": "rIsmMWmjrDHd"
      },
      "source": [
        "from keras.preprocessing.text import text_to_word_sequence\n",
        "\n",
        "sentence_tokens = []\n",
        "# Recorrer todas las filas y transformar las oraciones\n",
        "# en una secuencia de palabras (esto podría realizarse con NLTK o spaCy también)\n",
        "for _, row in df[:None].iterrows():\n",
        "    sentence_tokens.append(text_to_word_sequence(row[0]))"
      ],
      "execution_count": 7,
      "outputs": []
    },
    {
      "cell_type": "code",
      "metadata": {
        "id": "CHepi_DGrbhq",
        "colab": {
          "base_uri": "https://localhost:8080/"
        },
        "outputId": "0e65fcf2-17d2-4fb6-ca8c-e1ff9836eca7"
      },
      "source": [
        "# Demos un vistazo\n",
        "sentence_tokens[:5]"
      ],
      "execution_count": 10,
      "outputs": [
        {
          "output_type": "execute_result",
          "data": {
            "text/plain": [
              "[['look',\n",
              "  'i',\n",
              "  'was',\n",
              "  'gonna',\n",
              "  'go',\n",
              "  'easy',\n",
              "  'on',\n",
              "  'you',\n",
              "  'and',\n",
              "  'not',\n",
              "  'to',\n",
              "  'hurt',\n",
              "  'your',\n",
              "  'feelings'],\n",
              " ['but', \"i'm\", 'only', 'going', 'to', 'get', 'this', 'one', 'chance'],\n",
              " [\"something's\",\n",
              "  'wrong',\n",
              "  'i',\n",
              "  'can',\n",
              "  'feel',\n",
              "  'it',\n",
              "  'six',\n",
              "  'minutes',\n",
              "  'slim',\n",
              "  'shady',\n",
              "  \"you're\",\n",
              "  'on'],\n",
              " ['just',\n",
              "  'a',\n",
              "  'feeling',\n",
              "  \"i've\",\n",
              "  'got',\n",
              "  'like',\n",
              "  \"something's\",\n",
              "  'about',\n",
              "  'to',\n",
              "  'happen',\n",
              "  'but',\n",
              "  'i',\n",
              "  \"don't\",\n",
              "  'know',\n",
              "  'what'],\n",
              " ['if',\n",
              "  'that',\n",
              "  'means',\n",
              "  'what',\n",
              "  'i',\n",
              "  'think',\n",
              "  'it',\n",
              "  'means',\n",
              "  \"we're\",\n",
              "  'in',\n",
              "  'trouble',\n",
              "  'big',\n",
              "  'trouble']]"
            ]
          },
          "metadata": {},
          "execution_count": 10
        }
      ]
    },
    {
      "cell_type": "markdown",
      "metadata": {
        "id": "BaXV6nlHr5Aa"
      },
      "source": [
        "### 2 - Crear los vectores (word2vec)"
      ]
    },
    {
      "cell_type": "code",
      "metadata": {
        "id": "OSb0v7h8r7hK"
      },
      "source": [
        "from gensim.models.callbacks import CallbackAny2Vec\n",
        "# Durante el entrenamiento gensim por defecto no informa el \"loss\" en cada época\n",
        "# Sobracargamos el callback para poder tener esta información\n",
        "class callback(CallbackAny2Vec):\n",
        "    \"\"\"\n",
        "    Callback to print loss after each epoch\n",
        "    \"\"\"\n",
        "    def __init__(self):\n",
        "        self.epoch = 0\n",
        "\n",
        "    def on_epoch_end(self, model):\n",
        "        loss = model.get_latest_training_loss()\n",
        "        if self.epoch == 0:\n",
        "            print('Loss after epoch {}: {}'.format(self.epoch, loss))\n",
        "        else:\n",
        "            print('Loss after epoch {}: {}'.format(self.epoch, loss- self.loss_previous_step))\n",
        "        self.epoch += 1\n",
        "        self.loss_previous_step = loss"
      ],
      "execution_count": 11,
      "outputs": []
    },
    {
      "cell_type": "code",
      "metadata": {
        "id": "i0wnDdv9sJ47"
      },
      "source": [
        "# Crearmos el modelo generador de vectoeres\n",
        "# En este caso utilizaremos la estructura modelo Skipgram\n",
        "w2v_model = Word2Vec(min_count=5,    # frecuencia mínima de palabra para incluirla en el vocabulario\n",
        "                     window=2,       # cant de palabras antes y desp de la predicha\n",
        "                     size=300,       # dimensionalidad de los vectores \n",
        "                     negative=20,    # cantidad de negative samples... 0 es no se usa\n",
        "                     workers=1,      # si tienen más cores pueden cambiar este valor\n",
        "                     sg=1)           # modelo 0:CBOW  1:skipgram"
      ],
      "execution_count": 12,
      "outputs": []
    },
    {
      "cell_type": "code",
      "metadata": {
        "id": "5lTt8wErsf17"
      },
      "source": [
        "# Buildear el vocabularui con los tokens\n",
        "w2v_model.build_vocab(sentence_tokens)"
      ],
      "execution_count": 13,
      "outputs": []
    },
    {
      "cell_type": "code",
      "metadata": {
        "id": "TNc9qt4os5AT",
        "colab": {
          "base_uri": "https://localhost:8080/"
        },
        "outputId": "f7ecde96-0936-4847-c245-432f2c0011b6"
      },
      "source": [
        "# Cantidad de filas/docs encontradas en el corpus\n",
        "print(\"Cantidad de docs en el corpus:\", w2v_model.corpus_count)"
      ],
      "execution_count": 14,
      "outputs": [
        {
          "output_type": "stream",
          "name": "stdout",
          "text": [
            "Cantidad de docs en el corpus: 6812\n"
          ]
        }
      ]
    },
    {
      "cell_type": "code",
      "metadata": {
        "id": "idw9cHF3tSMl",
        "colab": {
          "base_uri": "https://localhost:8080/"
        },
        "outputId": "19717bf5-f680-452c-dddd-bef77f1b865e"
      },
      "source": [
        "# Cantidad de words encontradas en el corpus\n",
        "print(\"Cantidad de words distintas en el corpus:\", len(w2v_model.wv.vocab))"
      ],
      "execution_count": 15,
      "outputs": [
        {
          "output_type": "stream",
          "name": "stdout",
          "text": [
            "Cantidad de words distintas en el corpus: 1347\n"
          ]
        }
      ]
    },
    {
      "cell_type": "markdown",
      "metadata": {
        "id": "fC9mZ8DPk-UC"
      },
      "source": [
        "### 3 - Entrenar el modelo generador"
      ]
    },
    {
      "cell_type": "code",
      "metadata": {
        "id": "QSp-x0PAsq56",
        "colab": {
          "base_uri": "https://localhost:8080/"
        },
        "outputId": "fa715680-4930-41fa-a257-aa470e832d14"
      },
      "source": [
        "# Entrenamos el modelo generador de vectores\n",
        "# Utilizamos nuestro callback\n",
        "w2v_model.train(sentence_tokens,\n",
        "                 total_examples=w2v_model.corpus_count,\n",
        "                 epochs=20,\n",
        "                 compute_loss = True,\n",
        "                 callbacks=[callback()]\n",
        "                 )"
      ],
      "execution_count": 16,
      "outputs": [
        {
          "output_type": "stream",
          "name": "stdout",
          "text": [
            "Loss after epoch 0: 513593.84375\n",
            "Loss after epoch 1: 369973.03125\n",
            "Loss after epoch 2: 344217.125\n",
            "Loss after epoch 3: 317115.0\n",
            "Loss after epoch 4: 314096.5\n",
            "Loss after epoch 5: 297876.25\n",
            "Loss after epoch 6: 265934.0\n",
            "Loss after epoch 7: 262286.5\n",
            "Loss after epoch 8: 258583.5\n",
            "Loss after epoch 9: 256254.5\n",
            "Loss after epoch 10: 253678.5\n",
            "Loss after epoch 11: 250982.5\n",
            "Loss after epoch 12: 247370.5\n",
            "Loss after epoch 13: 245402.25\n",
            "Loss after epoch 14: 230377.5\n",
            "Loss after epoch 15: 230240.0\n",
            "Loss after epoch 16: 228948.0\n",
            "Loss after epoch 17: 227543.5\n",
            "Loss after epoch 18: 226511.5\n",
            "Loss after epoch 19: 226759.0\n"
          ]
        },
        {
          "output_type": "execute_result",
          "data": {
            "text/plain": [
              "(785273, 1296760)"
            ]
          },
          "metadata": {},
          "execution_count": 16
        }
      ]
    },
    {
      "cell_type": "markdown",
      "metadata": {
        "id": "ddT9NVuNlCAe"
      },
      "source": [
        "### 4 - Pruebas\n",
        "Se ensayan palabras que son sustantivos. Y por cada palabra se observa con cuales posee mayor o menor relación."
      ]
    },
    {
      "cell_type": "code",
      "metadata": {
        "id": "6cHN9xGLuPEm",
        "colab": {
          "base_uri": "https://localhost:8080/"
        },
        "outputId": "fcb698b1-594f-4690-e6b1-d83ac18302d8"
      },
      "source": [
        "# Palabras que MÁS se relacionan con...:\n",
        "w2v_model.wv.most_similar(positive=[\"car\"], topn=10)"
      ],
      "execution_count": 33,
      "outputs": [
        {
          "output_type": "execute_result",
          "data": {
            "text/plain": [
              "[('cell', 0.8657675385475159),\n",
              " ('bridge', 0.8479256629943848),\n",
              " ('stack', 0.8301877975463867),\n",
              " ('aiming', 0.8283246755599976),\n",
              " ('state', 0.826807975769043),\n",
              " ('post', 0.8245569467544556),\n",
              " (\"jumpin'\", 0.8240019679069519),\n",
              " ('wife', 0.8196628093719482),\n",
              " ('bedroom', 0.8167269229888916),\n",
              " ('headlights', 0.8126990795135498)]"
            ]
          },
          "metadata": {},
          "execution_count": 33
        }
      ]
    },
    {
      "cell_type": "code",
      "metadata": {
        "id": "47HiU5gdkdMq",
        "colab": {
          "base_uri": "https://localhost:8080/"
        },
        "outputId": "2d0adbc8-756f-4bf0-e992-3ecd95c4ad4b"
      },
      "source": [
        "# Palabras que MENOS se relacionan con...:\n",
        "w2v_model.wv.most_similar(negative=[\"home\"], topn=10)"
      ],
      "execution_count": 34,
      "outputs": [
        {
          "output_type": "execute_result",
          "data": {
            "text/plain": [
              "[('do', -0.011182699352502823),\n",
              " ('know', -0.11043538898229599),\n",
              " ('like', -0.13565483689308167),\n",
              " ('was', -0.14658835530281067),\n",
              " (\"ain't\", -0.15297147631645203),\n",
              " (\"actin'\", -0.1547769010066986),\n",
              " ('been', -0.15578427910804749),\n",
              " ('be', -0.1593363881111145),\n",
              " ('fuck', -0.16521385312080383),\n",
              " (\"don't\", -0.16593526303768158)]"
            ]
          },
          "metadata": {},
          "execution_count": 34
        }
      ]
    },
    {
      "cell_type": "markdown",
      "source": [
        "**_Sustantivos_**\n",
        "- car: de las palabras más relaciodas aparecen 'bridge', 'headlights', 'post'. Son palabras que podría pensarse que podría utilizarse con 'car'. En cambio 'wife' o 'aiming' dependen de las letras de las canciones. Entre las menos relacionadas llama la atención que aparezcan algunos adverbios como 'ever' o 'sometimes'. 'want' también aparece entre las menos relacionadas.\n",
        "- home: entre las palabras más relacionadas por su uso en significado se encuentran 'lives', 'parents', 'grow'. Las que dependen de las letras de las canciones son 'paid', 'shows'. En cuanto a las palabras menos relacionadas es dificil encontrar alguna explicación desde el significado. Aparecen 'fuck', 'like', 'know'. Llama la atención que aparezcan el verbo to be y el auxiliar to do de diferentes formas: 'was', 'do', 'was', 'don't'.\n",
        "\n",
        "Aparecen otras palabras en forma de giro idiomático, algunas veces recortadas, como es el caso de 'jumpin'. Por este motivo no se probaron verbos, ya que requiere conocer mejor como es el dialecto empleado en inglés. Se destaca que entre las palabras menos relacionadas aparezcan adverbios y pronombres o formas lingüisticas más desconocidas. \n",
        "\n",
        "Por último se visualiza la agrupación de vectores.\n"
      ],
      "metadata": {
        "id": "EeFrrtZyJcbM"
      }
    },
    {
      "cell_type": "markdown",
      "metadata": {
        "id": "_g8UVWe6lFmh"
      },
      "source": [
        "### 5 - Visualizar agrupación de vectores"
      ]
    },
    {
      "cell_type": "code",
      "metadata": {
        "id": "pDxEVXAivjr9"
      },
      "source": [
        "from sklearn.decomposition import IncrementalPCA    \n",
        "from sklearn.manifold import TSNE                   \n",
        "import numpy as np                                  \n",
        "\n",
        "def reduce_dimensions(model):\n",
        "    num_dimensions = 2  \n",
        "\n",
        "    vectors = np.asarray(model.wv.vectors)\n",
        "    labels = np.asarray(model.wv.index2word)  \n",
        "\n",
        "    tsne = TSNE(n_components=num_dimensions, random_state=0)\n",
        "    vectors = tsne.fit_transform(vectors)\n",
        "\n",
        "    x_vals = [v[0] for v in vectors]\n",
        "    y_vals = [v[1] for v in vectors]\n",
        "    return x_vals, y_vals, labels"
      ],
      "execution_count": 22,
      "outputs": []
    },
    {
      "cell_type": "code",
      "metadata": {
        "id": "NCCXtDpcugmd",
        "colab": {
          "base_uri": "https://localhost:8080/",
          "height": 638
        },
        "outputId": "6399e501-abf0-41fc-f551-3f5730f4ac7a"
      },
      "source": [
        "# Graficar los embedddings en 2D\n",
        "import plotly.graph_objects as go\n",
        "import plotly.express as px\n",
        "\n",
        "x_vals, y_vals, labels = reduce_dimensions(w2v_model)\n",
        "\n",
        "MAX_WORDS=200\n",
        "fig = px.scatter(x=x_vals[:MAX_WORDS], y=y_vals[:MAX_WORDS], text=labels[:MAX_WORDS])\n",
        "fig.show(renderer=\"colab\") # esto para plotly en colab"
      ],
      "execution_count": 23,
      "outputs": [
        {
          "output_type": "stream",
          "name": "stderr",
          "text": [
            "/usr/local/lib/python3.7/dist-packages/sklearn/manifold/_t_sne.py:783: FutureWarning: The default initialization in TSNE will change from 'random' to 'pca' in 1.2.\n",
            "  FutureWarning,\n",
            "/usr/local/lib/python3.7/dist-packages/sklearn/manifold/_t_sne.py:793: FutureWarning: The default learning rate in TSNE will change from 200.0 to 'auto' in 1.2.\n",
            "  FutureWarning,\n"
          ]
        },
        {
          "output_type": "display_data",
          "data": {
            "text/html": [
              "<html>\n",
              "<head><meta charset=\"utf-8\" /></head>\n",
              "<body>\n",
              "    <div>            <script src=\"https://cdnjs.cloudflare.com/ajax/libs/mathjax/2.7.5/MathJax.js?config=TeX-AMS-MML_SVG\"></script><script type=\"text/javascript\">if (window.MathJax) {MathJax.Hub.Config({SVG: {font: \"STIX-Web\"}});}</script>                <script type=\"text/javascript\">window.PlotlyConfig = {MathJaxConfig: 'local'};</script>\n",
              "        <script src=\"https://cdn.plot.ly/plotly-2.8.3.min.js\"></script>                <div id=\"0739bdee-6d77-4f3a-a6a1-194ca7af52ad\" class=\"plotly-graph-div\" style=\"height:525px; width:100%;\"></div>            <script type=\"text/javascript\">                                    window.PLOTLYENV=window.PLOTLYENV || {};                                    if (document.getElementById(\"0739bdee-6d77-4f3a-a6a1-194ca7af52ad\")) {                    Plotly.newPlot(                        \"0739bdee-6d77-4f3a-a6a1-194ca7af52ad\",                        [{\"hovertemplate\":\"x=%{x}<br>y=%{y}<br>text=%{text}<extra></extra>\",\"legendgroup\":\"\",\"marker\":{\"color\":\"#636efa\",\"symbol\":\"circle\"},\"mode\":\"markers+text\",\"name\":\"\",\"orientation\":\"v\",\"showlegend\":false,\"text\":[\"i\",\"the\",\"you\",\"to\",\"a\",\"and\",\"my\",\"i'm\",\"it\",\"me\",\"in\",\"that\",\"like\",\"of\",\"this\",\"but\",\"just\",\"so\",\"on\",\"is\",\"your\",\"don't\",\"up\",\"with\",\"get\",\"for\",\"be\",\"it's\",\"no\",\"all\",\"know\",\"what\",\"now\",\"out\",\"when\",\"they\",\"was\",\"not\",\"fuck\",\"ain't\",\"got\",\"go\",\"at\",\"can\",\"back\",\"if\",\"shit\",\"we\",\"he\",\"do\",\"one\",\"from\",\"'cause\",\"as\",\"never\",\"see\",\"think\",\"say\",\"his\",\"make\",\"you're\",\"off\",\"oh\",\"that's\",\"way\",\"down\",\"who\",\"her\",\"have\",\"can't\",\"take\",\"right\",\"ass\",\"bitch\",\"too\",\"or\",\"name\",\"let\",\"want\",\"love\",\"then\",\"are\",\"i'll\",\"these\",\"time\",\"am\",\"how\",\"been\",\"shady\",\"'em\",\"even\",\"why\",\"feel\",\"him\",\"yeah\",\"baby\",\"man\",\"cause\",\"gonna\",\"come\",\"still\",\"slim\",\"about\",\"he's\",\"look\",\"wanna\",\"little\",\"some\",\"through\",\"could\",\"an\",\"only\",\"did\",\"life\",\"girl\",\"over\",\"here\",\"put\",\"give\",\"better\",\"more\",\"need\",\"had\",\"said\",\"there\",\"i've\",\"she\",\"everybody\",\"by\",\"stand\",\"fuckin'\",\"aah\",\"them\",\"ever\",\"fucking\",\"tell\",\"rap\",\"god\",\"bad\",\"again\",\"crazy\",\"world\",\"will\",\"nothing\",\"before\",\"us\",\"try\",\"stop\",\"maybe\",\"would\",\"hear\",\"new\",\"keep\",\"where\",\"own\",\"please\",\"really\",\"something\",\"every\",\"made\",\"same\",\"blow\",\"day\",\"around\",\"gotta\",\"call\",\"into\",\"'til\",\"head\",\"there's\",\"won't\",\"boy\",\"mom\",\"yo\",\"didn't\",\"well\",\"face\",\"white\",\"shot\",\"real\",\"gone\",\"once\",\"comes\",\"guess\",\"thing\",\"night\",\"ya\",\"while\",\"lose\",\"two\",\"let's\",\"shake\",\"people\",\"hit\",\"yourself\",\"show\",\"ha\",\"find\",\"going\",\"goes\"],\"x\":[21.50294303894043,-23.09815788269043,20.848602294921875,-21.48085594177246,-10.179054260253906,-10.451812744140625,-23.552814483642578,6.261356353759766,19.289146423339844,7.560861110687256,-26.967693328857422,10.244502067565918,5.670185565948486,-24.264480590820312,-11.30318832397461,34.663333892822266,18.279027938842773,16.043785095214844,-18.131145477294922,-22.3302059173584,-0.13577337563037872,23.524002075195312,-33.99324417114258,-37.56573486328125,34.07487106323242,-25.495206832885742,4.743368148803711,16.107763290405273,8.127124786376953,19.916624069213867,23.40129280090332,23.856191635131836,13.361641883850098,-32.12960433959961,18.754863739013672,25.974308013916016,35.801937103271484,26.132661819458008,34.71706771850586,26.67120933532715,-4.800719738006592,-15.487606048583984,-29.876192092895508,27.263700485229492,-26.613431930541992,23.090816497802734,4.6948323249816895,40.91755676269531,-3.3800485134124756,31.264944076538086,36.735801696777344,-17.829713821411133,19.35148811340332,6.4603753089904785,30.129661560058594,24.009294509887695,22.230894088745117,31.406492233276367,-5.017155647277832,31.58190155029297,23.04081153869629,-28.12447738647461,15.70607852935791,35.994956970214844,14.363408088684082,-16.07162857055664,16.231460571289062,-0.14061063528060913,11.767966270446777,25.535465240478516,-22.84583854675293,14.07996654510498,-9.64444351196289,8.02031421661377,24.280683517456055,37.84408950805664,-23.46375846862793,-13.19661808013916,-7.4754252433776855,21.83866310119629,16.287376403808594,-7.501848220825195,4.6935577392578125,-8.489760398864746,-31.89361000061035,35.521575927734375,23.16407585144043,15.233434677124023,-26.490312576293945,2.335580348968506,19.74945640563965,35.60588836669922,18.392030715942383,-0.9923163652420044,16.843759536743164,12.188934326171875,9.015619277954102,12.114219665527344,32.52783203125,-21.600858688354492,12.984301567077637,-27.80757713317871,26.97006607055664,21.680696487426758,-31.530698776245117,39.41115951538086,-8.853976249694824,-10.358985900878906,-24.984628677368164,8.82497501373291,-0.21809297800064087,35.88530349731445,25.20738983154297,-26.941312789916992,11.002039909362793,2.849992275238037,30.842466354370117,-8.728378295898438,2.299700975418091,-2.451324462890625,9.772793769836426,11.733525276184082,4.9793701171875,22.708484649658203,-12.04955005645752,12.81362247467041,19.316444396972656,39.19276428222656,-29.374975204467773,-36.93718338012695,-13.392704963684082,12.6321382522583,0.7953091859817505,14.881512641906738,-12.245172500610352,23.502666473388672,4.752501964569092,13.468304634094238,27.188907623291016,-5.449068069458008,16.712379455566406,-14.85927677154541,15.03579044342041,36.0464973449707,0.8169960379600525,-5.962350368499756,28.399450302124023,1.917107105255127,21.104480743408203,29.557018280029297,29.37078285217285,-11.749120712280273,-11.037287712097168,20.404279708862305,26.441194534301758,-38.22743225097656,17.17217254638672,21.641315460205078,-30.882766723632812,19.467437744140625,-14.598772048950195,4.850590229034424,-11.938952445983887,-11.743825912475586,27.13007354736328,26.347503662109375,-15.771941184997559,-30.767417907714844,-19.452871322631836,5.936811447143555,17.451457977294922,15.313758850097656,-27.922908782958984,5.156032085418701,23.34056854248047,15.769787788391113,-13.49561882019043,-14.68403434753418,35.26786422729492,-27.846609115600586,7.9452314376831055,-3.1791727542877197,-4.0876240730285645,22.119552612304688,21.585115432739258,-25.97802734375,4.039746284484863,11.113584518432617,-3.6438655853271484,-22.63278579711914,-14.868631362915039,-11.662688255310059,16.654794692993164,1.2870458364486694,-3.8788468837738037,-8.187529563903809,-13.924873352050781,-26.3980655670166,33.42570495605469,-1.5334007740020752],\"xaxis\":\"x\",\"y\":[12.654934883117676,1.8415724039077759,17.498023986816406,-27.309778213500977,30.37729835510254,11.273894309997559,10.647396087646484,-5.581908226013184,14.093174934387207,-11.979230880737305,-6.821296691894531,-12.502851486206055,22.403146743774414,6.662330627441406,3.5711960792541504,15.364696502685547,9.511271476745605,-8.297361373901367,-21.077125549316406,13.112266540527344,-23.917259216308594,18.3697566986084,-2.112171173095703,0.747369110584259,-11.781479835510254,-21.609310150146484,-21.1520938873291,-3.9485933780670166,18.23249626159668,-3.2655045986175537,7.055532932281494,11.30150318145752,-23.069904327392578,11.239741325378418,11.312868118286133,21.27132225036621,-0.9022528529167175,-9.416194915771484,1.7364057302474976,10.785730361938477,1.131091594696045,-18.490060806274414,-13.931851387023926,17.61526870727539,-14.725275993347168,15.749815940856934,-12.232078552246094,1.9239585399627686,13.767029762268066,2.3229191303253174,-12.392794609069824,-8.94457721710205,10.07016372680664,-17.494338989257812,13.123038291931152,2.9004647731781006,6.416596412658691,5.569522380828857,14.747010231018066,-17.685230255126953,-24.720558166503906,-1.4241943359375,-18.4634952545166,15.617795944213867,18.261558532714844,-24.204511642456055,0.8685803413391113,17.214147567749023,21.236831665039062,16.726573944091797,-19.5378360748291,-25.213150024414062,-23.066781997680664,-5.8012166023254395,-10.515169143676758,9.125703811645508,16.441862106323242,-17.620216369628906,-28.57886505126953,-16.97288703918457,14.880752563476562,25.607290267944336,-28.59560203552246,17.664146423339844,-22.89573097229004,3.3293097019195557,-5.602335453033447,24.52315902709961,23.104833602905273,17.25670051574707,12.686262130737305,10.47624683380127,22.164159774780273,15.519675254821777,-13.6340970993042,-14.49687385559082,3.2064316272735596,8.503649711608887,-4.543391704559326,-19.65182113647461,4.304154872894287,22.51314353942871,-0.8917988538742065,-12.921504974365234,-13.39979076385498,-4.1623687744140625,29.652212142944336,-28.144350051879883,-12.241964340209961,-30.33284568786621,-3.12538480758667,-10.84421157836914,9.248730659484863,9.2245454788208,-11.30134391784668,-36.56968307495117,-12.230377197265625,-17.979585647583008,-15.209176063537598,-31.35808753967285,16.854862213134766,18.138181686401367,14.465836524963379,8.53752326965332,-32.794517517089844,25.93505859375,16.07889175415039,-5.672972679138184,7.466976165771484,-8.977240562438965,-10.812772750854492,-14.431367874145508,17.128150939941406,13.123799324035645,-12.599565505981445,-0.3576429486274719,7.045454978942871,-17.95636749267578,-11.73574161529541,-14.24947738647461,-11.466143608093262,22.140987396240234,-8.285601615905762,14.286282539367676,-10.5186767578125,3.5260684490203857,4.7544989585876465,-25.51844024658203,-4.747008800506592,15.034161567687988,-4.017980098724365,15.982312202453613,-16.389394760131836,0.18405719101428986,-19.379898071289062,-8.939510345458984,-27.642690658569336,21.921934127807617,-21.80730438232422,-23.17311668395996,-25.466339111328125,-23.282272338867188,1.210306167602539,-9.111153602600098,14.921561241149902,1.0187654495239258,-10.430334091186523,0.5391054153442383,8.0641450881958,15.935898780822754,15.804520606994629,-13.71982192993164,14.21087646484375,-4.048443794250488,17.89267349243164,-10.785470962524414,-12.161907196044922,27.7843017578125,-13.741310119628906,21.333139419555664,6.433254241943359,-32.860755920410156,-34.14598846435547,10.581133842468262,25.10216522216797,-8.20887565612793,-9.942519187927246,2.274590015411377,-28.527816772460938,5.292455196380615,-15.110793113708496,-24.049665451049805,-1.918365478515625,-12.453536987304688,-29.590456008911133,-19.915973663330078,13.983054161071777,-29.009565353393555,6.382268905639648,13.304637908935547],\"yaxis\":\"y\",\"type\":\"scatter\"}],                        {\"template\":{\"data\":{\"bar\":[{\"error_x\":{\"color\":\"#2a3f5f\"},\"error_y\":{\"color\":\"#2a3f5f\"},\"marker\":{\"line\":{\"color\":\"#E5ECF6\",\"width\":0.5},\"pattern\":{\"fillmode\":\"overlay\",\"size\":10,\"solidity\":0.2}},\"type\":\"bar\"}],\"barpolar\":[{\"marker\":{\"line\":{\"color\":\"#E5ECF6\",\"width\":0.5},\"pattern\":{\"fillmode\":\"overlay\",\"size\":10,\"solidity\":0.2}},\"type\":\"barpolar\"}],\"carpet\":[{\"aaxis\":{\"endlinecolor\":\"#2a3f5f\",\"gridcolor\":\"white\",\"linecolor\":\"white\",\"minorgridcolor\":\"white\",\"startlinecolor\":\"#2a3f5f\"},\"baxis\":{\"endlinecolor\":\"#2a3f5f\",\"gridcolor\":\"white\",\"linecolor\":\"white\",\"minorgridcolor\":\"white\",\"startlinecolor\":\"#2a3f5f\"},\"type\":\"carpet\"}],\"choropleth\":[{\"colorbar\":{\"outlinewidth\":0,\"ticks\":\"\"},\"type\":\"choropleth\"}],\"contour\":[{\"colorbar\":{\"outlinewidth\":0,\"ticks\":\"\"},\"colorscale\":[[0.0,\"#0d0887\"],[0.1111111111111111,\"#46039f\"],[0.2222222222222222,\"#7201a8\"],[0.3333333333333333,\"#9c179e\"],[0.4444444444444444,\"#bd3786\"],[0.5555555555555556,\"#d8576b\"],[0.6666666666666666,\"#ed7953\"],[0.7777777777777778,\"#fb9f3a\"],[0.8888888888888888,\"#fdca26\"],[1.0,\"#f0f921\"]],\"type\":\"contour\"}],\"contourcarpet\":[{\"colorbar\":{\"outlinewidth\":0,\"ticks\":\"\"},\"type\":\"contourcarpet\"}],\"heatmap\":[{\"colorbar\":{\"outlinewidth\":0,\"ticks\":\"\"},\"colorscale\":[[0.0,\"#0d0887\"],[0.1111111111111111,\"#46039f\"],[0.2222222222222222,\"#7201a8\"],[0.3333333333333333,\"#9c179e\"],[0.4444444444444444,\"#bd3786\"],[0.5555555555555556,\"#d8576b\"],[0.6666666666666666,\"#ed7953\"],[0.7777777777777778,\"#fb9f3a\"],[0.8888888888888888,\"#fdca26\"],[1.0,\"#f0f921\"]],\"type\":\"heatmap\"}],\"heatmapgl\":[{\"colorbar\":{\"outlinewidth\":0,\"ticks\":\"\"},\"colorscale\":[[0.0,\"#0d0887\"],[0.1111111111111111,\"#46039f\"],[0.2222222222222222,\"#7201a8\"],[0.3333333333333333,\"#9c179e\"],[0.4444444444444444,\"#bd3786\"],[0.5555555555555556,\"#d8576b\"],[0.6666666666666666,\"#ed7953\"],[0.7777777777777778,\"#fb9f3a\"],[0.8888888888888888,\"#fdca26\"],[1.0,\"#f0f921\"]],\"type\":\"heatmapgl\"}],\"histogram\":[{\"marker\":{\"pattern\":{\"fillmode\":\"overlay\",\"size\":10,\"solidity\":0.2}},\"type\":\"histogram\"}],\"histogram2d\":[{\"colorbar\":{\"outlinewidth\":0,\"ticks\":\"\"},\"colorscale\":[[0.0,\"#0d0887\"],[0.1111111111111111,\"#46039f\"],[0.2222222222222222,\"#7201a8\"],[0.3333333333333333,\"#9c179e\"],[0.4444444444444444,\"#bd3786\"],[0.5555555555555556,\"#d8576b\"],[0.6666666666666666,\"#ed7953\"],[0.7777777777777778,\"#fb9f3a\"],[0.8888888888888888,\"#fdca26\"],[1.0,\"#f0f921\"]],\"type\":\"histogram2d\"}],\"histogram2dcontour\":[{\"colorbar\":{\"outlinewidth\":0,\"ticks\":\"\"},\"colorscale\":[[0.0,\"#0d0887\"],[0.1111111111111111,\"#46039f\"],[0.2222222222222222,\"#7201a8\"],[0.3333333333333333,\"#9c179e\"],[0.4444444444444444,\"#bd3786\"],[0.5555555555555556,\"#d8576b\"],[0.6666666666666666,\"#ed7953\"],[0.7777777777777778,\"#fb9f3a\"],[0.8888888888888888,\"#fdca26\"],[1.0,\"#f0f921\"]],\"type\":\"histogram2dcontour\"}],\"mesh3d\":[{\"colorbar\":{\"outlinewidth\":0,\"ticks\":\"\"},\"type\":\"mesh3d\"}],\"parcoords\":[{\"line\":{\"colorbar\":{\"outlinewidth\":0,\"ticks\":\"\"}},\"type\":\"parcoords\"}],\"pie\":[{\"automargin\":true,\"type\":\"pie\"}],\"scatter\":[{\"marker\":{\"colorbar\":{\"outlinewidth\":0,\"ticks\":\"\"}},\"type\":\"scatter\"}],\"scatter3d\":[{\"line\":{\"colorbar\":{\"outlinewidth\":0,\"ticks\":\"\"}},\"marker\":{\"colorbar\":{\"outlinewidth\":0,\"ticks\":\"\"}},\"type\":\"scatter3d\"}],\"scattercarpet\":[{\"marker\":{\"colorbar\":{\"outlinewidth\":0,\"ticks\":\"\"}},\"type\":\"scattercarpet\"}],\"scattergeo\":[{\"marker\":{\"colorbar\":{\"outlinewidth\":0,\"ticks\":\"\"}},\"type\":\"scattergeo\"}],\"scattergl\":[{\"marker\":{\"colorbar\":{\"outlinewidth\":0,\"ticks\":\"\"}},\"type\":\"scattergl\"}],\"scattermapbox\":[{\"marker\":{\"colorbar\":{\"outlinewidth\":0,\"ticks\":\"\"}},\"type\":\"scattermapbox\"}],\"scatterpolar\":[{\"marker\":{\"colorbar\":{\"outlinewidth\":0,\"ticks\":\"\"}},\"type\":\"scatterpolar\"}],\"scatterpolargl\":[{\"marker\":{\"colorbar\":{\"outlinewidth\":0,\"ticks\":\"\"}},\"type\":\"scatterpolargl\"}],\"scatterternary\":[{\"marker\":{\"colorbar\":{\"outlinewidth\":0,\"ticks\":\"\"}},\"type\":\"scatterternary\"}],\"surface\":[{\"colorbar\":{\"outlinewidth\":0,\"ticks\":\"\"},\"colorscale\":[[0.0,\"#0d0887\"],[0.1111111111111111,\"#46039f\"],[0.2222222222222222,\"#7201a8\"],[0.3333333333333333,\"#9c179e\"],[0.4444444444444444,\"#bd3786\"],[0.5555555555555556,\"#d8576b\"],[0.6666666666666666,\"#ed7953\"],[0.7777777777777778,\"#fb9f3a\"],[0.8888888888888888,\"#fdca26\"],[1.0,\"#f0f921\"]],\"type\":\"surface\"}],\"table\":[{\"cells\":{\"fill\":{\"color\":\"#EBF0F8\"},\"line\":{\"color\":\"white\"}},\"header\":{\"fill\":{\"color\":\"#C8D4E3\"},\"line\":{\"color\":\"white\"}},\"type\":\"table\"}]},\"layout\":{\"annotationdefaults\":{\"arrowcolor\":\"#2a3f5f\",\"arrowhead\":0,\"arrowwidth\":1},\"autotypenumbers\":\"strict\",\"coloraxis\":{\"colorbar\":{\"outlinewidth\":0,\"ticks\":\"\"}},\"colorscale\":{\"diverging\":[[0,\"#8e0152\"],[0.1,\"#c51b7d\"],[0.2,\"#de77ae\"],[0.3,\"#f1b6da\"],[0.4,\"#fde0ef\"],[0.5,\"#f7f7f7\"],[0.6,\"#e6f5d0\"],[0.7,\"#b8e186\"],[0.8,\"#7fbc41\"],[0.9,\"#4d9221\"],[1,\"#276419\"]],\"sequential\":[[0.0,\"#0d0887\"],[0.1111111111111111,\"#46039f\"],[0.2222222222222222,\"#7201a8\"],[0.3333333333333333,\"#9c179e\"],[0.4444444444444444,\"#bd3786\"],[0.5555555555555556,\"#d8576b\"],[0.6666666666666666,\"#ed7953\"],[0.7777777777777778,\"#fb9f3a\"],[0.8888888888888888,\"#fdca26\"],[1.0,\"#f0f921\"]],\"sequentialminus\":[[0.0,\"#0d0887\"],[0.1111111111111111,\"#46039f\"],[0.2222222222222222,\"#7201a8\"],[0.3333333333333333,\"#9c179e\"],[0.4444444444444444,\"#bd3786\"],[0.5555555555555556,\"#d8576b\"],[0.6666666666666666,\"#ed7953\"],[0.7777777777777778,\"#fb9f3a\"],[0.8888888888888888,\"#fdca26\"],[1.0,\"#f0f921\"]]},\"colorway\":[\"#636efa\",\"#EF553B\",\"#00cc96\",\"#ab63fa\",\"#FFA15A\",\"#19d3f3\",\"#FF6692\",\"#B6E880\",\"#FF97FF\",\"#FECB52\"],\"font\":{\"color\":\"#2a3f5f\"},\"geo\":{\"bgcolor\":\"white\",\"lakecolor\":\"white\",\"landcolor\":\"#E5ECF6\",\"showlakes\":true,\"showland\":true,\"subunitcolor\":\"white\"},\"hoverlabel\":{\"align\":\"left\"},\"hovermode\":\"closest\",\"mapbox\":{\"style\":\"light\"},\"paper_bgcolor\":\"white\",\"plot_bgcolor\":\"#E5ECF6\",\"polar\":{\"angularaxis\":{\"gridcolor\":\"white\",\"linecolor\":\"white\",\"ticks\":\"\"},\"bgcolor\":\"#E5ECF6\",\"radialaxis\":{\"gridcolor\":\"white\",\"linecolor\":\"white\",\"ticks\":\"\"}},\"scene\":{\"xaxis\":{\"backgroundcolor\":\"#E5ECF6\",\"gridcolor\":\"white\",\"gridwidth\":2,\"linecolor\":\"white\",\"showbackground\":true,\"ticks\":\"\",\"zerolinecolor\":\"white\"},\"yaxis\":{\"backgroundcolor\":\"#E5ECF6\",\"gridcolor\":\"white\",\"gridwidth\":2,\"linecolor\":\"white\",\"showbackground\":true,\"ticks\":\"\",\"zerolinecolor\":\"white\"},\"zaxis\":{\"backgroundcolor\":\"#E5ECF6\",\"gridcolor\":\"white\",\"gridwidth\":2,\"linecolor\":\"white\",\"showbackground\":true,\"ticks\":\"\",\"zerolinecolor\":\"white\"}},\"shapedefaults\":{\"line\":{\"color\":\"#2a3f5f\"}},\"ternary\":{\"aaxis\":{\"gridcolor\":\"white\",\"linecolor\":\"white\",\"ticks\":\"\"},\"baxis\":{\"gridcolor\":\"white\",\"linecolor\":\"white\",\"ticks\":\"\"},\"bgcolor\":\"#E5ECF6\",\"caxis\":{\"gridcolor\":\"white\",\"linecolor\":\"white\",\"ticks\":\"\"}},\"title\":{\"x\":0.05},\"xaxis\":{\"automargin\":true,\"gridcolor\":\"white\",\"linecolor\":\"white\",\"ticks\":\"\",\"title\":{\"standoff\":15},\"zerolinecolor\":\"white\",\"zerolinewidth\":2},\"yaxis\":{\"automargin\":true,\"gridcolor\":\"white\",\"linecolor\":\"white\",\"ticks\":\"\",\"title\":{\"standoff\":15},\"zerolinecolor\":\"white\",\"zerolinewidth\":2}}},\"xaxis\":{\"anchor\":\"y\",\"domain\":[0.0,1.0],\"title\":{\"text\":\"x\"}},\"yaxis\":{\"anchor\":\"x\",\"domain\":[0.0,1.0],\"title\":{\"text\":\"y\"}},\"legend\":{\"tracegroupgap\":0},\"margin\":{\"t\":60}},                        {\"responsive\": true}                    ).then(function(){\n",
              "                            \n",
              "var gd = document.getElementById('0739bdee-6d77-4f3a-a6a1-194ca7af52ad');\n",
              "var x = new MutationObserver(function (mutations, observer) {{\n",
              "        var display = window.getComputedStyle(gd).display;\n",
              "        if (!display || display === 'none') {{\n",
              "            console.log([gd, 'removed!']);\n",
              "            Plotly.purge(gd);\n",
              "            observer.disconnect();\n",
              "        }}\n",
              "}});\n",
              "\n",
              "// Listen for the removal of the full notebook cells\n",
              "var notebookContainer = gd.closest('#notebook-container');\n",
              "if (notebookContainer) {{\n",
              "    x.observe(notebookContainer, {childList: true});\n",
              "}}\n",
              "\n",
              "// Listen for the clearing of the current output cell\n",
              "var outputEl = gd.closest('.output');\n",
              "if (outputEl) {{\n",
              "    x.observe(outputEl, {childList: true});\n",
              "}}\n",
              "\n",
              "                        })                };                            </script>        </div>\n",
              "</body>\n",
              "</html>"
            ]
          },
          "metadata": {}
        }
      ]
    }
  ]
}